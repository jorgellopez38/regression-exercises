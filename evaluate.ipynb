{
 "cells": [
  {
   "cell_type": "code",
   "execution_count": 42,
   "id": "c71eae94",
   "metadata": {},
   "outputs": [],
   "source": [
    "import pandas as pd\n",
    "import numpy as np\n",
    "import matplotlib.pyplot as plt\n",
    "import seaborn as sns\n",
    "from math import sqrt\n",
    "from sklearn.linear_model import LinearRegression\n",
    "from sklearn.metrics import mean_squared_error, r2_score, explained_variance_score\n",
    "from acquire import get_zillow_data\n",
    "from wrangle import wrangle_zillow\n"
   ]
  },
  {
   "cell_type": "code",
   "execution_count": 2,
   "id": "1c93cdc0",
   "metadata": {},
   "outputs": [],
   "source": [
    "df = get_zillow_data()"
   ]
  },
  {
   "cell_type": "code",
   "execution_count": 3,
   "id": "f642e887",
   "metadata": {},
   "outputs": [
    {
     "data": {
      "text/html": [
       "<div>\n",
       "<style scoped>\n",
       "    .dataframe tbody tr th:only-of-type {\n",
       "        vertical-align: middle;\n",
       "    }\n",
       "\n",
       "    .dataframe tbody tr th {\n",
       "        vertical-align: top;\n",
       "    }\n",
       "\n",
       "    .dataframe thead th {\n",
       "        text-align: right;\n",
       "    }\n",
       "</style>\n",
       "<table border=\"1\" class=\"dataframe\">\n",
       "  <thead>\n",
       "    <tr style=\"text-align: right;\">\n",
       "      <th></th>\n",
       "      <th>bedroomcnt</th>\n",
       "      <th>bathroomcnt</th>\n",
       "      <th>calculatedfinishedsquarefeet</th>\n",
       "      <th>taxvaluedollarcnt</th>\n",
       "      <th>yearbuilt</th>\n",
       "      <th>taxamount</th>\n",
       "      <th>fips</th>\n",
       "    </tr>\n",
       "  </thead>\n",
       "  <tbody>\n",
       "    <tr>\n",
       "      <th>0</th>\n",
       "      <td>0.0</td>\n",
       "      <td>0.0</td>\n",
       "      <td>NaN</td>\n",
       "      <td>27516.0</td>\n",
       "      <td>NaN</td>\n",
       "      <td>NaN</td>\n",
       "      <td>6037.0</td>\n",
       "    </tr>\n",
       "    <tr>\n",
       "      <th>1</th>\n",
       "      <td>0.0</td>\n",
       "      <td>0.0</td>\n",
       "      <td>NaN</td>\n",
       "      <td>10.0</td>\n",
       "      <td>NaN</td>\n",
       "      <td>NaN</td>\n",
       "      <td>6037.0</td>\n",
       "    </tr>\n",
       "    <tr>\n",
       "      <th>2</th>\n",
       "      <td>0.0</td>\n",
       "      <td>0.0</td>\n",
       "      <td>NaN</td>\n",
       "      <td>10.0</td>\n",
       "      <td>NaN</td>\n",
       "      <td>NaN</td>\n",
       "      <td>6037.0</td>\n",
       "    </tr>\n",
       "    <tr>\n",
       "      <th>3</th>\n",
       "      <td>0.0</td>\n",
       "      <td>0.0</td>\n",
       "      <td>NaN</td>\n",
       "      <td>2108.0</td>\n",
       "      <td>NaN</td>\n",
       "      <td>174.21</td>\n",
       "      <td>6037.0</td>\n",
       "    </tr>\n",
       "    <tr>\n",
       "      <th>4</th>\n",
       "      <td>4.0</td>\n",
       "      <td>2.0</td>\n",
       "      <td>3633.0</td>\n",
       "      <td>296425.0</td>\n",
       "      <td>2005.0</td>\n",
       "      <td>6941.39</td>\n",
       "      <td>6037.0</td>\n",
       "    </tr>\n",
       "  </tbody>\n",
       "</table>\n",
       "</div>"
      ],
      "text/plain": [
       "   bedroomcnt  bathroomcnt  calculatedfinishedsquarefeet  taxvaluedollarcnt  \\\n",
       "0         0.0          0.0                           NaN            27516.0   \n",
       "1         0.0          0.0                           NaN               10.0   \n",
       "2         0.0          0.0                           NaN               10.0   \n",
       "3         0.0          0.0                           NaN             2108.0   \n",
       "4         4.0          2.0                        3633.0           296425.0   \n",
       "\n",
       "   yearbuilt  taxamount    fips  \n",
       "0        NaN        NaN  6037.0  \n",
       "1        NaN        NaN  6037.0  \n",
       "2        NaN        NaN  6037.0  \n",
       "3        NaN     174.21  6037.0  \n",
       "4     2005.0    6941.39  6037.0  "
      ]
     },
     "execution_count": 3,
     "metadata": {},
     "output_type": "execute_result"
    }
   ],
   "source": [
    "df.head()"
   ]
  },
  {
   "cell_type": "code",
   "execution_count": 4,
   "id": "ac386f88",
   "metadata": {},
   "outputs": [
    {
     "data": {
      "text/plain": [
       "((1167316, 7), (500279, 7), (416899, 7))"
      ]
     },
     "execution_count": 4,
     "metadata": {},
     "output_type": "execute_result"
    }
   ],
   "source": [
    "train, validate, test = wrangle_zillow()\n",
    "train.shape, validate.shape, test.shape"
   ]
  },
  {
   "cell_type": "code",
   "execution_count": 5,
   "id": "9ac68c46",
   "metadata": {},
   "outputs": [
    {
     "data": {
      "text/html": [
       "<div>\n",
       "<style scoped>\n",
       "    .dataframe tbody tr th:only-of-type {\n",
       "        vertical-align: middle;\n",
       "    }\n",
       "\n",
       "    .dataframe tbody tr th {\n",
       "        vertical-align: top;\n",
       "    }\n",
       "\n",
       "    .dataframe thead th {\n",
       "        text-align: right;\n",
       "    }\n",
       "</style>\n",
       "<table border=\"1\" class=\"dataframe\">\n",
       "  <thead>\n",
       "    <tr style=\"text-align: right;\">\n",
       "      <th></th>\n",
       "      <th>bedrooms</th>\n",
       "      <th>bathrooms</th>\n",
       "      <th>square_feet</th>\n",
       "      <th>tax_value</th>\n",
       "      <th>year_built</th>\n",
       "      <th>tax_amount</th>\n",
       "      <th>fips</th>\n",
       "    </tr>\n",
       "  </thead>\n",
       "  <tbody>\n",
       "    <tr>\n",
       "      <th>397209</th>\n",
       "      <td>4</td>\n",
       "      <td>3.0</td>\n",
       "      <td>2287</td>\n",
       "      <td>741697</td>\n",
       "      <td>1997</td>\n",
       "      <td>8642.98</td>\n",
       "      <td>6059</td>\n",
       "    </tr>\n",
       "    <tr>\n",
       "      <th>920033</th>\n",
       "      <td>2</td>\n",
       "      <td>1.0</td>\n",
       "      <td>918</td>\n",
       "      <td>158409</td>\n",
       "      <td>1947</td>\n",
       "      <td>2381.94</td>\n",
       "      <td>6037</td>\n",
       "    </tr>\n",
       "    <tr>\n",
       "      <th>311353</th>\n",
       "      <td>4</td>\n",
       "      <td>2.5</td>\n",
       "      <td>1932</td>\n",
       "      <td>374400</td>\n",
       "      <td>1976</td>\n",
       "      <td>4738.44</td>\n",
       "      <td>6059</td>\n",
       "    </tr>\n",
       "    <tr>\n",
       "      <th>672101</th>\n",
       "      <td>3</td>\n",
       "      <td>3.0</td>\n",
       "      <td>2717</td>\n",
       "      <td>932755</td>\n",
       "      <td>1925</td>\n",
       "      <td>10822.44</td>\n",
       "      <td>6037</td>\n",
       "    </tr>\n",
       "    <tr>\n",
       "      <th>450335</th>\n",
       "      <td>3</td>\n",
       "      <td>2.5</td>\n",
       "      <td>1476</td>\n",
       "      <td>515000</td>\n",
       "      <td>1973</td>\n",
       "      <td>5925.12</td>\n",
       "      <td>6059</td>\n",
       "    </tr>\n",
       "  </tbody>\n",
       "</table>\n",
       "</div>"
      ],
      "text/plain": [
       "        bedrooms  bathrooms  square_feet  tax_value  year_built  tax_amount  \\\n",
       "397209         4        3.0         2287     741697        1997     8642.98   \n",
       "920033         2        1.0          918     158409        1947     2381.94   \n",
       "311353         4        2.5         1932     374400        1976     4738.44   \n",
       "672101         3        3.0         2717     932755        1925    10822.44   \n",
       "450335         3        2.5         1476     515000        1973     5925.12   \n",
       "\n",
       "        fips  \n",
       "397209  6059  \n",
       "920033  6037  \n",
       "311353  6059  \n",
       "672101  6037  \n",
       "450335  6059  "
      ]
     },
     "execution_count": 5,
     "metadata": {},
     "output_type": "execute_result"
    }
   ],
   "source": [
    "train.head()"
   ]
  },
  {
   "cell_type": "code",
   "execution_count": 38,
   "id": "49bc27ca",
   "metadata": {},
   "outputs": [
    {
     "name": "stdout",
     "output_type": "stream",
     "text": [
      "<class 'pandas.core.frame.DataFrame'>\n",
      "Int64Index: 1167316 entries, 397209 to 903174\n",
      "Data columns (total 7 columns):\n",
      " #   Column       Non-Null Count    Dtype  \n",
      "---  ------       --------------    -----  \n",
      " 0   bedrooms     1167316 non-null  int64  \n",
      " 1   bathrooms    1167316 non-null  float64\n",
      " 2   square_feet  1167316 non-null  int64  \n",
      " 3   tax_value    1167316 non-null  int64  \n",
      " 4   year_built   1167316 non-null  int64  \n",
      " 5   tax_amount   1167316 non-null  float64\n",
      " 6   fips         1167316 non-null  int64  \n",
      "dtypes: float64(2), int64(5)\n",
      "memory usage: 71.2 MB\n"
     ]
    }
   ],
   "source": [
    "train.info()"
   ]
  },
  {
   "cell_type": "markdown",
   "id": "f0dac829",
   "metadata": {},
   "source": [
    "Fit a linear regression model (ordinary least squares) and compute yhat, predictions of tax_value using only square_feet."
   ]
  },
  {
   "cell_type": "code",
   "execution_count": 6,
   "id": "8c5fa5ae",
   "metadata": {},
   "outputs": [
    {
     "data": {
      "text/plain": [
       "399082.32"
      ]
     },
     "execution_count": 6,
     "metadata": {},
     "output_type": "execute_result"
    }
   ],
   "source": [
    "baseline = round(train['tax_value'].mean(), 2)\n",
    "baseline"
   ]
  },
  {
   "cell_type": "code",
   "execution_count": 7,
   "id": "e7aa4d8f",
   "metadata": {},
   "outputs": [
    {
     "data": {
      "text/html": [
       "<div>\n",
       "<style scoped>\n",
       "    .dataframe tbody tr th:only-of-type {\n",
       "        vertical-align: middle;\n",
       "    }\n",
       "\n",
       "    .dataframe tbody tr th {\n",
       "        vertical-align: top;\n",
       "    }\n",
       "\n",
       "    .dataframe thead th {\n",
       "        text-align: right;\n",
       "    }\n",
       "</style>\n",
       "<table border=\"1\" class=\"dataframe\">\n",
       "  <thead>\n",
       "    <tr style=\"text-align: right;\">\n",
       "      <th></th>\n",
       "      <th>square_feet</th>\n",
       "      <th>tax_value</th>\n",
       "    </tr>\n",
       "  </thead>\n",
       "  <tbody>\n",
       "    <tr>\n",
       "      <th>397209</th>\n",
       "      <td>2287</td>\n",
       "      <td>741697</td>\n",
       "    </tr>\n",
       "    <tr>\n",
       "      <th>920033</th>\n",
       "      <td>918</td>\n",
       "      <td>158409</td>\n",
       "    </tr>\n",
       "    <tr>\n",
       "      <th>311353</th>\n",
       "      <td>1932</td>\n",
       "      <td>374400</td>\n",
       "    </tr>\n",
       "    <tr>\n",
       "      <th>672101</th>\n",
       "      <td>2717</td>\n",
       "      <td>932755</td>\n",
       "    </tr>\n",
       "    <tr>\n",
       "      <th>450335</th>\n",
       "      <td>1476</td>\n",
       "      <td>515000</td>\n",
       "    </tr>\n",
       "  </tbody>\n",
       "</table>\n",
       "</div>"
      ],
      "text/plain": [
       "        square_feet  tax_value\n",
       "397209         2287     741697\n",
       "920033          918     158409\n",
       "311353         1932     374400\n",
       "672101         2717     932755\n",
       "450335         1476     515000"
      ]
     },
     "execution_count": 7,
     "metadata": {},
     "output_type": "execute_result"
    }
   ],
   "source": [
    "preds = train[['square_feet', 'tax_value']]\n",
    "preds.head()"
   ]
  },
  {
   "cell_type": "code",
   "execution_count": 8,
   "id": "a2cbe7ec",
   "metadata": {},
   "outputs": [
    {
     "name": "stderr",
     "output_type": "stream",
     "text": [
      "/var/folders/9q/slnrpghs0r78mkz6d7_q_hj40000gp/T/ipykernel_64606/3933155626.py:1: SettingWithCopyWarning: \n",
      "A value is trying to be set on a copy of a slice from a DataFrame.\n",
      "Try using .loc[row_indexer,col_indexer] = value instead\n",
      "\n",
      "See the caveats in the documentation: https://pandas.pydata.org/pandas-docs/stable/user_guide/indexing.html#returning-a-view-versus-a-copy\n",
      "  preds['baseline_preds'] = baseline\n"
     ]
    },
    {
     "data": {
      "text/html": [
       "<div>\n",
       "<style scoped>\n",
       "    .dataframe tbody tr th:only-of-type {\n",
       "        vertical-align: middle;\n",
       "    }\n",
       "\n",
       "    .dataframe tbody tr th {\n",
       "        vertical-align: top;\n",
       "    }\n",
       "\n",
       "    .dataframe thead th {\n",
       "        text-align: right;\n",
       "    }\n",
       "</style>\n",
       "<table border=\"1\" class=\"dataframe\">\n",
       "  <thead>\n",
       "    <tr style=\"text-align: right;\">\n",
       "      <th></th>\n",
       "      <th>square_feet</th>\n",
       "      <th>tax_value</th>\n",
       "      <th>baseline_preds</th>\n",
       "    </tr>\n",
       "  </thead>\n",
       "  <tbody>\n",
       "    <tr>\n",
       "      <th>397209</th>\n",
       "      <td>2287</td>\n",
       "      <td>741697</td>\n",
       "      <td>399082.32</td>\n",
       "    </tr>\n",
       "    <tr>\n",
       "      <th>920033</th>\n",
       "      <td>918</td>\n",
       "      <td>158409</td>\n",
       "      <td>399082.32</td>\n",
       "    </tr>\n",
       "    <tr>\n",
       "      <th>311353</th>\n",
       "      <td>1932</td>\n",
       "      <td>374400</td>\n",
       "      <td>399082.32</td>\n",
       "    </tr>\n",
       "    <tr>\n",
       "      <th>672101</th>\n",
       "      <td>2717</td>\n",
       "      <td>932755</td>\n",
       "      <td>399082.32</td>\n",
       "    </tr>\n",
       "    <tr>\n",
       "      <th>450335</th>\n",
       "      <td>1476</td>\n",
       "      <td>515000</td>\n",
       "      <td>399082.32</td>\n",
       "    </tr>\n",
       "  </tbody>\n",
       "</table>\n",
       "</div>"
      ],
      "text/plain": [
       "        square_feet  tax_value  baseline_preds\n",
       "397209         2287     741697       399082.32\n",
       "920033          918     158409       399082.32\n",
       "311353         1932     374400       399082.32\n",
       "672101         2717     932755       399082.32\n",
       "450335         1476     515000       399082.32"
      ]
     },
     "execution_count": 8,
     "metadata": {},
     "output_type": "execute_result"
    }
   ],
   "source": [
    "preds['baseline_preds'] = baseline\n",
    "preds.head()"
   ]
  },
  {
   "cell_type": "code",
   "execution_count": 9,
   "id": "ec325a87",
   "metadata": {},
   "outputs": [
    {
     "data": {
      "text/plain": [
       "LinearRegression()"
      ]
     },
     "execution_count": 9,
     "metadata": {},
     "output_type": "execute_result"
    }
   ],
   "source": [
    "ols_model = LinearRegression()\n",
    "\n",
    "ols_model.fit(train[['square_feet']], train[['tax_value']])"
   ]
  },
  {
   "cell_type": "code",
   "execution_count": 10,
   "id": "7a3c53c7",
   "metadata": {},
   "outputs": [
    {
     "name": "stderr",
     "output_type": "stream",
     "text": [
      "/var/folders/9q/slnrpghs0r78mkz6d7_q_hj40000gp/T/ipykernel_64606/1663146348.py:1: SettingWithCopyWarning: \n",
      "A value is trying to be set on a copy of a slice from a DataFrame.\n",
      "Try using .loc[row_indexer,col_indexer] = value instead\n",
      "\n",
      "See the caveats in the documentation: https://pandas.pydata.org/pandas-docs/stable/user_guide/indexing.html#returning-a-view-versus-a-copy\n",
      "  preds['yhat'] = ols_model.predict(train[['square_feet']])\n"
     ]
    },
    {
     "data": {
      "text/html": [
       "<div>\n",
       "<style scoped>\n",
       "    .dataframe tbody tr th:only-of-type {\n",
       "        vertical-align: middle;\n",
       "    }\n",
       "\n",
       "    .dataframe tbody tr th {\n",
       "        vertical-align: top;\n",
       "    }\n",
       "\n",
       "    .dataframe thead th {\n",
       "        text-align: right;\n",
       "    }\n",
       "</style>\n",
       "<table border=\"1\" class=\"dataframe\">\n",
       "  <thead>\n",
       "    <tr style=\"text-align: right;\">\n",
       "      <th></th>\n",
       "      <th>square_feet</th>\n",
       "      <th>tax_value</th>\n",
       "      <th>baseline_preds</th>\n",
       "      <th>yhat</th>\n",
       "    </tr>\n",
       "  </thead>\n",
       "  <tbody>\n",
       "    <tr>\n",
       "      <th>397209</th>\n",
       "      <td>2287</td>\n",
       "      <td>741697</td>\n",
       "      <td>399082.32</td>\n",
       "      <td>513857.544211</td>\n",
       "    </tr>\n",
       "    <tr>\n",
       "      <th>920033</th>\n",
       "      <td>918</td>\n",
       "      <td>158409</td>\n",
       "      <td>399082.32</td>\n",
       "      <td>192806.331660</td>\n",
       "    </tr>\n",
       "    <tr>\n",
       "      <th>311353</th>\n",
       "      <td>1932</td>\n",
       "      <td>374400</td>\n",
       "      <td>399082.32</td>\n",
       "      <td>430604.673169</td>\n",
       "    </tr>\n",
       "    <tr>\n",
       "      <th>672101</th>\n",
       "      <td>2717</td>\n",
       "      <td>932755</td>\n",
       "      <td>399082.32</td>\n",
       "      <td>614699.049979</td>\n",
       "    </tr>\n",
       "    <tr>\n",
       "      <th>450335</th>\n",
       "      <td>1476</td>\n",
       "      <td>515000</td>\n",
       "      <td>399082.32</td>\n",
       "      <td>323665.774029</td>\n",
       "    </tr>\n",
       "  </tbody>\n",
       "</table>\n",
       "</div>"
      ],
      "text/plain": [
       "        square_feet  tax_value  baseline_preds           yhat\n",
       "397209         2287     741697       399082.32  513857.544211\n",
       "920033          918     158409       399082.32  192806.331660\n",
       "311353         1932     374400       399082.32  430604.673169\n",
       "672101         2717     932755       399082.32  614699.049979\n",
       "450335         1476     515000       399082.32  323665.774029"
      ]
     },
     "execution_count": 10,
     "metadata": {},
     "output_type": "execute_result"
    }
   ],
   "source": [
    "preds['yhat'] = ols_model.predict(train[['square_feet']])\n",
    "preds.head()"
   ]
  },
  {
   "cell_type": "code",
   "execution_count": 45,
   "id": "27f178bc",
   "metadata": {},
   "outputs": [
    {
     "data": {
      "text/html": [
       "<div>\n",
       "<style scoped>\n",
       "    .dataframe tbody tr th:only-of-type {\n",
       "        vertical-align: middle;\n",
       "    }\n",
       "\n",
       "    .dataframe tbody tr th {\n",
       "        vertical-align: top;\n",
       "    }\n",
       "\n",
       "    .dataframe thead th {\n",
       "        text-align: right;\n",
       "    }\n",
       "</style>\n",
       "<table border=\"1\" class=\"dataframe\">\n",
       "  <thead>\n",
       "    <tr style=\"text-align: right;\">\n",
       "      <th></th>\n",
       "      <th>square_feet</th>\n",
       "      <th>tax_value</th>\n",
       "      <th>baseline_preds</th>\n",
       "      <th>yhat</th>\n",
       "      <th>baseline_res</th>\n",
       "      <th>yhat_res</th>\n",
       "      <th>baseline_res_squared</th>\n",
       "      <th>yhat_res_squared</th>\n",
       "      <th>yhat_mean_res</th>\n",
       "      <th>yhat_mean_res_squared</th>\n",
       "    </tr>\n",
       "  </thead>\n",
       "  <tbody>\n",
       "    <tr>\n",
       "      <th>397209</th>\n",
       "      <td>2287</td>\n",
       "      <td>741697</td>\n",
       "      <td>399082.32</td>\n",
       "      <td>513857.544211</td>\n",
       "      <td>-342614.68</td>\n",
       "      <td>-227839.455789</td>\n",
       "      <td>1.173848e+11</td>\n",
       "      <td>5.191082e+10</td>\n",
       "      <td>114775.224211</td>\n",
       "      <td>1.317335e+10</td>\n",
       "    </tr>\n",
       "    <tr>\n",
       "      <th>920033</th>\n",
       "      <td>918</td>\n",
       "      <td>158409</td>\n",
       "      <td>399082.32</td>\n",
       "      <td>192806.331660</td>\n",
       "      <td>240673.32</td>\n",
       "      <td>34397.331660</td>\n",
       "      <td>5.792365e+10</td>\n",
       "      <td>1.183176e+09</td>\n",
       "      <td>-206275.988340</td>\n",
       "      <td>4.254978e+10</td>\n",
       "    </tr>\n",
       "    <tr>\n",
       "      <th>311353</th>\n",
       "      <td>1932</td>\n",
       "      <td>374400</td>\n",
       "      <td>399082.32</td>\n",
       "      <td>430604.673169</td>\n",
       "      <td>24682.32</td>\n",
       "      <td>56204.673169</td>\n",
       "      <td>6.092169e+08</td>\n",
       "      <td>3.158965e+09</td>\n",
       "      <td>31522.353169</td>\n",
       "      <td>9.936587e+08</td>\n",
       "    </tr>\n",
       "    <tr>\n",
       "      <th>672101</th>\n",
       "      <td>2717</td>\n",
       "      <td>932755</td>\n",
       "      <td>399082.32</td>\n",
       "      <td>614699.049979</td>\n",
       "      <td>-533672.68</td>\n",
       "      <td>-318055.950021</td>\n",
       "      <td>2.848065e+11</td>\n",
       "      <td>1.011596e+11</td>\n",
       "      <td>215616.729979</td>\n",
       "      <td>4.649057e+10</td>\n",
       "    </tr>\n",
       "    <tr>\n",
       "      <th>450335</th>\n",
       "      <td>1476</td>\n",
       "      <td>515000</td>\n",
       "      <td>399082.32</td>\n",
       "      <td>323665.774029</td>\n",
       "      <td>-115917.68</td>\n",
       "      <td>-191334.225971</td>\n",
       "      <td>1.343691e+10</td>\n",
       "      <td>3.660879e+10</td>\n",
       "      <td>-75416.545971</td>\n",
       "      <td>5.687655e+09</td>\n",
       "    </tr>\n",
       "  </tbody>\n",
       "</table>\n",
       "</div>"
      ],
      "text/plain": [
       "        square_feet  tax_value  baseline_preds           yhat  baseline_res  \\\n",
       "397209         2287     741697       399082.32  513857.544211    -342614.68   \n",
       "920033          918     158409       399082.32  192806.331660     240673.32   \n",
       "311353         1932     374400       399082.32  430604.673169      24682.32   \n",
       "672101         2717     932755       399082.32  614699.049979    -533672.68   \n",
       "450335         1476     515000       399082.32  323665.774029    -115917.68   \n",
       "\n",
       "             yhat_res  baseline_res_squared  yhat_res_squared  yhat_mean_res  \\\n",
       "397209 -227839.455789          1.173848e+11      5.191082e+10  114775.224211   \n",
       "920033   34397.331660          5.792365e+10      1.183176e+09 -206275.988340   \n",
       "311353   56204.673169          6.092169e+08      3.158965e+09   31522.353169   \n",
       "672101 -318055.950021          2.848065e+11      1.011596e+11  215616.729979   \n",
       "450335 -191334.225971          1.343691e+10      3.660879e+10  -75416.545971   \n",
       "\n",
       "        yhat_mean_res_squared  \n",
       "397209           1.317335e+10  \n",
       "920033           4.254978e+10  \n",
       "311353           9.936587e+08  \n",
       "672101           4.649057e+10  \n",
       "450335           5.687655e+09  "
      ]
     },
     "execution_count": 45,
     "metadata": {},
     "output_type": "execute_result"
    }
   ],
   "source": [
    "preds['baseline_res'] = preds['baseline_preds'] - preds['tax_value']\n",
    "\n",
    "preds.head()"
   ]
  },
  {
   "cell_type": "markdown",
   "id": "c96c2a87",
   "metadata": {},
   "source": [
    "Plot the residuals for the linear regression model that you made."
   ]
  },
  {
   "cell_type": "code",
   "execution_count": 53,
   "id": "bc1fd457",
   "metadata": {},
   "outputs": [
    {
     "data": {
      "image/png": "[encoded data removed]",
      "text/plain": [
       "<Figure size 640x480 with 1 Axes>"
      ]
     },
     "metadata": {},
     "output_type": "display_data"
    }
   ],
   "source": [
    "sns.scatterplot(data=preds, x='tax_value', y='yhat_res')\n",
    "plt.xlabel('Home Value')\n",
    "plt.ylabel('Residuals')\n",
    "plt.title('Residual vs Home Value Plot')\n",
    "plt.show()"
   ]
  },
  {
   "cell_type": "code",
   "execution_count": 13,
   "id": "b6038476",
   "metadata": {},
   "outputs": [
    {
     "name": "stderr",
     "output_type": "stream",
     "text": [
      "/var/folders/9q/slnrpghs0r78mkz6d7_q_hj40000gp/T/ipykernel_64606/2865484425.py:1: SettingWithCopyWarning: \n",
      "A value is trying to be set on a copy of a slice from a DataFrame.\n",
      "Try using .loc[row_indexer,col_indexer] = value instead\n",
      "\n",
      "See the caveats in the documentation: https://pandas.pydata.org/pandas-docs/stable/user_guide/indexing.html#returning-a-view-versus-a-copy\n",
      "  preds['yhat_res'] = preds['yhat'] - preds['tax_value']\n"
     ]
    },
    {
     "data": {
      "text/html": [
       "<div>\n",
       "<style scoped>\n",
       "    .dataframe tbody tr th:only-of-type {\n",
       "        vertical-align: middle;\n",
       "    }\n",
       "\n",
       "    .dataframe tbody tr th {\n",
       "        vertical-align: top;\n",
       "    }\n",
       "\n",
       "    .dataframe thead th {\n",
       "        text-align: right;\n",
       "    }\n",
       "</style>\n",
       "<table border=\"1\" class=\"dataframe\">\n",
       "  <thead>\n",
       "    <tr style=\"text-align: right;\">\n",
       "      <th></th>\n",
       "      <th>square_feet</th>\n",
       "      <th>tax_value</th>\n",
       "      <th>baseline_preds</th>\n",
       "      <th>yhat</th>\n",
       "      <th>baseline_res</th>\n",
       "      <th>yhat_res</th>\n",
       "    </tr>\n",
       "  </thead>\n",
       "  <tbody>\n",
       "    <tr>\n",
       "      <th>397209</th>\n",
       "      <td>2287</td>\n",
       "      <td>741697</td>\n",
       "      <td>399082.32</td>\n",
       "      <td>513857.544211</td>\n",
       "      <td>-342614.68</td>\n",
       "      <td>-227839.455789</td>\n",
       "    </tr>\n",
       "    <tr>\n",
       "      <th>920033</th>\n",
       "      <td>918</td>\n",
       "      <td>158409</td>\n",
       "      <td>399082.32</td>\n",
       "      <td>192806.331660</td>\n",
       "      <td>240673.32</td>\n",
       "      <td>34397.331660</td>\n",
       "    </tr>\n",
       "    <tr>\n",
       "      <th>311353</th>\n",
       "      <td>1932</td>\n",
       "      <td>374400</td>\n",
       "      <td>399082.32</td>\n",
       "      <td>430604.673169</td>\n",
       "      <td>24682.32</td>\n",
       "      <td>56204.673169</td>\n",
       "    </tr>\n",
       "    <tr>\n",
       "      <th>672101</th>\n",
       "      <td>2717</td>\n",
       "      <td>932755</td>\n",
       "      <td>399082.32</td>\n",
       "      <td>614699.049979</td>\n",
       "      <td>-533672.68</td>\n",
       "      <td>-318055.950021</td>\n",
       "    </tr>\n",
       "    <tr>\n",
       "      <th>450335</th>\n",
       "      <td>1476</td>\n",
       "      <td>515000</td>\n",
       "      <td>399082.32</td>\n",
       "      <td>323665.774029</td>\n",
       "      <td>-115917.68</td>\n",
       "      <td>-191334.225971</td>\n",
       "    </tr>\n",
       "  </tbody>\n",
       "</table>\n",
       "</div>"
      ],
      "text/plain": [
       "        square_feet  tax_value  baseline_preds           yhat  baseline_res  \\\n",
       "397209         2287     741697       399082.32  513857.544211    -342614.68   \n",
       "920033          918     158409       399082.32  192806.331660     240673.32   \n",
       "311353         1932     374400       399082.32  430604.673169      24682.32   \n",
       "672101         2717     932755       399082.32  614699.049979    -533672.68   \n",
       "450335         1476     515000       399082.32  323665.774029    -115917.68   \n",
       "\n",
       "             yhat_res  \n",
       "397209 -227839.455789  \n",
       "920033   34397.331660  \n",
       "311353   56204.673169  \n",
       "672101 -318055.950021  \n",
       "450335 -191334.225971  "
      ]
     },
     "execution_count": 13,
     "metadata": {},
     "output_type": "execute_result"
    }
   ],
   "source": [
    "preds['yhat_res'] = preds['yhat'] - preds['tax_value']\n",
    "preds.head()"
   ]
  },
  {
   "cell_type": "code",
   "execution_count": 54,
   "id": "51ce4d93",
   "metadata": {},
   "outputs": [
    {
     "name": "stderr",
     "output_type": "stream",
     "text": [
      "/usr/local/anaconda3/lib/python3.9/site-packages/seaborn/_decorators.py:36: FutureWarning: Pass the following variables as keyword args: x, y. From version 0.12, the only valid positional argument will be `data`, and passing other arguments without an explicit keyword will result in an error or misinterpretation.\n",
      "  warnings.warn(\n"
     ]
    },
    {
     "data": {
      "image/png": "[encoded data removed]",
      "text/plain": [
       "<Figure size 640x480 with 1 Axes>"
      ]
     },
     "metadata": {},
     "output_type": "display_data"
    }
   ],
   "source": [
    "sns.scatterplot(preds['square_feet'], preds['yhat_res'])\n",
    "plt.xlabel('Square Feet')\n",
    "plt.ylabel('Predictions Residual')\n",
    "plt.show()"
   ]
  },
  {
   "cell_type": "markdown",
   "id": "d3b3d0df",
   "metadata": {},
   "source": [
    "Calculate the sum of squared errors, explained sum of squares, total sum of squares, mean squared error, and root mean squared error for your model."
   ]
  },
  {
   "cell_type": "code",
   "execution_count": 15,
   "id": "32c3e306",
   "metadata": {},
   "outputs": [
    {
     "data": {
      "text/plain": [
       "Index(['square_feet', 'tax_value', 'baseline_preds', 'yhat', 'baseline_res',\n",
       "       'yhat_res'],\n",
       "      dtype='object')"
      ]
     },
     "execution_count": 15,
     "metadata": {},
     "output_type": "execute_result"
    }
   ],
   "source": [
    "preds.columns"
   ]
  },
  {
   "cell_type": "code",
   "execution_count": 16,
   "id": "2c92e6f4",
   "metadata": {},
   "outputs": [
    {
     "data": {
      "text/html": [
       "<div>\n",
       "<style scoped>\n",
       "    .dataframe tbody tr th:only-of-type {\n",
       "        vertical-align: middle;\n",
       "    }\n",
       "\n",
       "    .dataframe tbody tr th {\n",
       "        vertical-align: top;\n",
       "    }\n",
       "\n",
       "    .dataframe thead th {\n",
       "        text-align: right;\n",
       "    }\n",
       "</style>\n",
       "<table border=\"1\" class=\"dataframe\">\n",
       "  <thead>\n",
       "    <tr style=\"text-align: right;\">\n",
       "      <th></th>\n",
       "      <th>square_feet</th>\n",
       "      <th>tax_value</th>\n",
       "      <th>baseline_preds</th>\n",
       "      <th>yhat</th>\n",
       "      <th>baseline_res</th>\n",
       "      <th>yhat_res</th>\n",
       "      <th>baseline_res_squared</th>\n",
       "      <th>yhat_res_squared</th>\n",
       "    </tr>\n",
       "  </thead>\n",
       "  <tbody>\n",
       "    <tr>\n",
       "      <th>397209</th>\n",
       "      <td>2287</td>\n",
       "      <td>741697</td>\n",
       "      <td>399082.32</td>\n",
       "      <td>513857.544211</td>\n",
       "      <td>-342614.68</td>\n",
       "      <td>-227839.455789</td>\n",
       "      <td>1.173848e+11</td>\n",
       "      <td>5.191082e+10</td>\n",
       "    </tr>\n",
       "    <tr>\n",
       "      <th>920033</th>\n",
       "      <td>918</td>\n",
       "      <td>158409</td>\n",
       "      <td>399082.32</td>\n",
       "      <td>192806.331660</td>\n",
       "      <td>240673.32</td>\n",
       "      <td>34397.331660</td>\n",
       "      <td>5.792365e+10</td>\n",
       "      <td>1.183176e+09</td>\n",
       "    </tr>\n",
       "    <tr>\n",
       "      <th>311353</th>\n",
       "      <td>1932</td>\n",
       "      <td>374400</td>\n",
       "      <td>399082.32</td>\n",
       "      <td>430604.673169</td>\n",
       "      <td>24682.32</td>\n",
       "      <td>56204.673169</td>\n",
       "      <td>6.092169e+08</td>\n",
       "      <td>3.158965e+09</td>\n",
       "    </tr>\n",
       "    <tr>\n",
       "      <th>672101</th>\n",
       "      <td>2717</td>\n",
       "      <td>932755</td>\n",
       "      <td>399082.32</td>\n",
       "      <td>614699.049979</td>\n",
       "      <td>-533672.68</td>\n",
       "      <td>-318055.950021</td>\n",
       "      <td>2.848065e+11</td>\n",
       "      <td>1.011596e+11</td>\n",
       "    </tr>\n",
       "    <tr>\n",
       "      <th>450335</th>\n",
       "      <td>1476</td>\n",
       "      <td>515000</td>\n",
       "      <td>399082.32</td>\n",
       "      <td>323665.774029</td>\n",
       "      <td>-115917.68</td>\n",
       "      <td>-191334.225971</td>\n",
       "      <td>1.343691e+10</td>\n",
       "      <td>3.660879e+10</td>\n",
       "    </tr>\n",
       "  </tbody>\n",
       "</table>\n",
       "</div>"
      ],
      "text/plain": [
       "        square_feet  tax_value  baseline_preds           yhat  baseline_res  \\\n",
       "397209         2287     741697       399082.32  513857.544211    -342614.68   \n",
       "920033          918     158409       399082.32  192806.331660     240673.32   \n",
       "311353         1932     374400       399082.32  430604.673169      24682.32   \n",
       "672101         2717     932755       399082.32  614699.049979    -533672.68   \n",
       "450335         1476     515000       399082.32  323665.774029    -115917.68   \n",
       "\n",
       "             yhat_res  baseline_res_squared  yhat_res_squared  \n",
       "397209 -227839.455789          1.173848e+11      5.191082e+10  \n",
       "920033   34397.331660          5.792365e+10      1.183176e+09  \n",
       "311353   56204.673169          6.092169e+08      3.158965e+09  \n",
       "672101 -318055.950021          2.848065e+11      1.011596e+11  \n",
       "450335 -191334.225971          1.343691e+10      3.660879e+10  "
      ]
     },
     "execution_count": 16,
     "metadata": {},
     "output_type": "execute_result"
    }
   ],
   "source": [
    "preds['baseline_res_squared'] = preds['baseline_res'] ** 2\n",
    "preds['yhat_res_squared'] = preds['yhat_res'] ** 2\n",
    "preds.head()"
   ]
  },
  {
   "cell_type": "code",
   "execution_count": 17,
   "id": "a0e46f48",
   "metadata": {},
   "outputs": [
    {
     "data": {
      "text/plain": [
       "(1.1498901319990134e+17, 7.52766571159468e+16)"
      ]
     },
     "execution_count": 17,
     "metadata": {},
     "output_type": "execute_result"
    }
   ],
   "source": [
    "sse_baseline = preds['baseline_res_squared'].sum()\n",
    "sse_yhat = preds['yhat_res_squared'].sum()\n",
    "\n",
    "sse_baseline, sse_yhat"
   ]
  },
  {
   "cell_type": "code",
   "execution_count": 18,
   "id": "d47109ea",
   "metadata": {},
   "outputs": [
    {
     "data": {
      "text/plain": [
       "(98507185029.50473, 64486957358.544556)"
      ]
     },
     "execution_count": 18,
     "metadata": {},
     "output_type": "execute_result"
    }
   ],
   "source": [
    "mse_baseline = sse_baseline / len(preds)\n",
    "mse_yhat = sse_yhat / len(preds)\n",
    "\n",
    "mse_baseline, mse_yhat"
   ]
  },
  {
   "cell_type": "code",
   "execution_count": 19,
   "id": "f826aca4",
   "metadata": {},
   "outputs": [
    {
     "data": {
      "text/plain": [
       "(313858.5430245682, 253942.82301050477)"
      ]
     },
     "execution_count": 19,
     "metadata": {},
     "output_type": "execute_result"
    }
   ],
   "source": [
    "rmse_baseline = sqrt(mse_baseline)\n",
    "rmse_yhat = sqrt(mse_yhat)\n",
    "\n",
    "rmse_baseline, rmse_yhat"
   ]
  },
  {
   "cell_type": "code",
   "execution_count": 20,
   "id": "56de6506",
   "metadata": {},
   "outputs": [
    {
     "data": {
      "text/plain": [
       "313858.5430245682"
      ]
     },
     "execution_count": 20,
     "metadata": {},
     "output_type": "execute_result"
    }
   ],
   "source": [
    "sqrt(mean_squared_error(preds['tax_value'], preds['baseline_preds']))"
   ]
  },
  {
   "cell_type": "markdown",
   "id": "8aa5ef94",
   "metadata": {},
   "source": [
    "Calculate the sum of squared errors, mean squared error, and root mean squared error for the baseline model (i.e. a model that always predicts the average taxvaluedollarcnt amount)."
   ]
  },
  {
   "cell_type": "code",
   "execution_count": 21,
   "id": "d49c25b6",
   "metadata": {},
   "outputs": [
    {
     "data": {
      "text/html": [
       "<div>\n",
       "<style scoped>\n",
       "    .dataframe tbody tr th:only-of-type {\n",
       "        vertical-align: middle;\n",
       "    }\n",
       "\n",
       "    .dataframe tbody tr th {\n",
       "        vertical-align: top;\n",
       "    }\n",
       "\n",
       "    .dataframe thead th {\n",
       "        text-align: right;\n",
       "    }\n",
       "</style>\n",
       "<table border=\"1\" class=\"dataframe\">\n",
       "  <thead>\n",
       "    <tr style=\"text-align: right;\">\n",
       "      <th></th>\n",
       "      <th>square_feet</th>\n",
       "      <th>tax_value</th>\n",
       "      <th>baseline_preds</th>\n",
       "      <th>yhat</th>\n",
       "      <th>baseline_res</th>\n",
       "      <th>yhat_res</th>\n",
       "      <th>baseline_res_squared</th>\n",
       "      <th>yhat_res_squared</th>\n",
       "    </tr>\n",
       "  </thead>\n",
       "  <tbody>\n",
       "    <tr>\n",
       "      <th>397209</th>\n",
       "      <td>2287</td>\n",
       "      <td>741697</td>\n",
       "      <td>399082.32</td>\n",
       "      <td>513857.544211</td>\n",
       "      <td>-342614.68</td>\n",
       "      <td>-227839.455789</td>\n",
       "      <td>1.173848e+11</td>\n",
       "      <td>5.191082e+10</td>\n",
       "    </tr>\n",
       "    <tr>\n",
       "      <th>920033</th>\n",
       "      <td>918</td>\n",
       "      <td>158409</td>\n",
       "      <td>399082.32</td>\n",
       "      <td>192806.331660</td>\n",
       "      <td>240673.32</td>\n",
       "      <td>34397.331660</td>\n",
       "      <td>5.792365e+10</td>\n",
       "      <td>1.183176e+09</td>\n",
       "    </tr>\n",
       "    <tr>\n",
       "      <th>311353</th>\n",
       "      <td>1932</td>\n",
       "      <td>374400</td>\n",
       "      <td>399082.32</td>\n",
       "      <td>430604.673169</td>\n",
       "      <td>24682.32</td>\n",
       "      <td>56204.673169</td>\n",
       "      <td>6.092169e+08</td>\n",
       "      <td>3.158965e+09</td>\n",
       "    </tr>\n",
       "    <tr>\n",
       "      <th>672101</th>\n",
       "      <td>2717</td>\n",
       "      <td>932755</td>\n",
       "      <td>399082.32</td>\n",
       "      <td>614699.049979</td>\n",
       "      <td>-533672.68</td>\n",
       "      <td>-318055.950021</td>\n",
       "      <td>2.848065e+11</td>\n",
       "      <td>1.011596e+11</td>\n",
       "    </tr>\n",
       "    <tr>\n",
       "      <th>450335</th>\n",
       "      <td>1476</td>\n",
       "      <td>515000</td>\n",
       "      <td>399082.32</td>\n",
       "      <td>323665.774029</td>\n",
       "      <td>-115917.68</td>\n",
       "      <td>-191334.225971</td>\n",
       "      <td>1.343691e+10</td>\n",
       "      <td>3.660879e+10</td>\n",
       "    </tr>\n",
       "  </tbody>\n",
       "</table>\n",
       "</div>"
      ],
      "text/plain": [
       "        square_feet  tax_value  baseline_preds           yhat  baseline_res  \\\n",
       "397209         2287     741697       399082.32  513857.544211    -342614.68   \n",
       "920033          918     158409       399082.32  192806.331660     240673.32   \n",
       "311353         1932     374400       399082.32  430604.673169      24682.32   \n",
       "672101         2717     932755       399082.32  614699.049979    -533672.68   \n",
       "450335         1476     515000       399082.32  323665.774029    -115917.68   \n",
       "\n",
       "             yhat_res  baseline_res_squared  yhat_res_squared  \n",
       "397209 -227839.455789          1.173848e+11      5.191082e+10  \n",
       "920033   34397.331660          5.792365e+10      1.183176e+09  \n",
       "311353   56204.673169          6.092169e+08      3.158965e+09  \n",
       "672101 -318055.950021          2.848065e+11      1.011596e+11  \n",
       "450335 -191334.225971          1.343691e+10      3.660879e+10  "
      ]
     },
     "execution_count": 21,
     "metadata": {},
     "output_type": "execute_result"
    }
   ],
   "source": [
    "preds.head()"
   ]
  },
  {
   "cell_type": "code",
   "execution_count": 22,
   "id": "ce7cafa5",
   "metadata": {},
   "outputs": [
    {
     "data": {
      "text/html": [
       "<div>\n",
       "<style scoped>\n",
       "    .dataframe tbody tr th:only-of-type {\n",
       "        vertical-align: middle;\n",
       "    }\n",
       "\n",
       "    .dataframe tbody tr th {\n",
       "        vertical-align: top;\n",
       "    }\n",
       "\n",
       "    .dataframe thead th {\n",
       "        text-align: right;\n",
       "    }\n",
       "</style>\n",
       "<table border=\"1\" class=\"dataframe\">\n",
       "  <thead>\n",
       "    <tr style=\"text-align: right;\">\n",
       "      <th></th>\n",
       "      <th>square_feet</th>\n",
       "      <th>tax_value</th>\n",
       "      <th>baseline_preds</th>\n",
       "      <th>yhat</th>\n",
       "      <th>baseline_res</th>\n",
       "      <th>yhat_res</th>\n",
       "      <th>baseline_res_squared</th>\n",
       "      <th>yhat_res_squared</th>\n",
       "      <th>yhat_mean_res</th>\n",
       "    </tr>\n",
       "  </thead>\n",
       "  <tbody>\n",
       "    <tr>\n",
       "      <th>397209</th>\n",
       "      <td>2287</td>\n",
       "      <td>741697</td>\n",
       "      <td>399082.32</td>\n",
       "      <td>513857.544211</td>\n",
       "      <td>-342614.68</td>\n",
       "      <td>-227839.455789</td>\n",
       "      <td>1.173848e+11</td>\n",
       "      <td>5.191082e+10</td>\n",
       "      <td>114775.224211</td>\n",
       "    </tr>\n",
       "    <tr>\n",
       "      <th>920033</th>\n",
       "      <td>918</td>\n",
       "      <td>158409</td>\n",
       "      <td>399082.32</td>\n",
       "      <td>192806.331660</td>\n",
       "      <td>240673.32</td>\n",
       "      <td>34397.331660</td>\n",
       "      <td>5.792365e+10</td>\n",
       "      <td>1.183176e+09</td>\n",
       "      <td>-206275.988340</td>\n",
       "    </tr>\n",
       "    <tr>\n",
       "      <th>311353</th>\n",
       "      <td>1932</td>\n",
       "      <td>374400</td>\n",
       "      <td>399082.32</td>\n",
       "      <td>430604.673169</td>\n",
       "      <td>24682.32</td>\n",
       "      <td>56204.673169</td>\n",
       "      <td>6.092169e+08</td>\n",
       "      <td>3.158965e+09</td>\n",
       "      <td>31522.353169</td>\n",
       "    </tr>\n",
       "    <tr>\n",
       "      <th>672101</th>\n",
       "      <td>2717</td>\n",
       "      <td>932755</td>\n",
       "      <td>399082.32</td>\n",
       "      <td>614699.049979</td>\n",
       "      <td>-533672.68</td>\n",
       "      <td>-318055.950021</td>\n",
       "      <td>2.848065e+11</td>\n",
       "      <td>1.011596e+11</td>\n",
       "      <td>215616.729979</td>\n",
       "    </tr>\n",
       "    <tr>\n",
       "      <th>450335</th>\n",
       "      <td>1476</td>\n",
       "      <td>515000</td>\n",
       "      <td>399082.32</td>\n",
       "      <td>323665.774029</td>\n",
       "      <td>-115917.68</td>\n",
       "      <td>-191334.225971</td>\n",
       "      <td>1.343691e+10</td>\n",
       "      <td>3.660879e+10</td>\n",
       "      <td>-75416.545971</td>\n",
       "    </tr>\n",
       "  </tbody>\n",
       "</table>\n",
       "</div>"
      ],
      "text/plain": [
       "        square_feet  tax_value  baseline_preds           yhat  baseline_res  \\\n",
       "397209         2287     741697       399082.32  513857.544211    -342614.68   \n",
       "920033          918     158409       399082.32  192806.331660     240673.32   \n",
       "311353         1932     374400       399082.32  430604.673169      24682.32   \n",
       "672101         2717     932755       399082.32  614699.049979    -533672.68   \n",
       "450335         1476     515000       399082.32  323665.774029    -115917.68   \n",
       "\n",
       "             yhat_res  baseline_res_squared  yhat_res_squared  yhat_mean_res  \n",
       "397209 -227839.455789          1.173848e+11      5.191082e+10  114775.224211  \n",
       "920033   34397.331660          5.792365e+10      1.183176e+09 -206275.988340  \n",
       "311353   56204.673169          6.092169e+08      3.158965e+09   31522.353169  \n",
       "672101 -318055.950021          2.848065e+11      1.011596e+11  215616.729979  \n",
       "450335 -191334.225971          1.343691e+10      3.660879e+10  -75416.545971  "
      ]
     },
     "execution_count": 22,
     "metadata": {},
     "output_type": "execute_result"
    }
   ],
   "source": [
    "preds['yhat_mean_res'] = preds['yhat'] - preds['baseline_preds']\n",
    "preds.head()"
   ]
  },
  {
   "cell_type": "code",
   "execution_count": 23,
   "id": "f224f4ca",
   "metadata": {},
   "outputs": [
    {
     "data": {
      "text/html": [
       "<div>\n",
       "<style scoped>\n",
       "    .dataframe tbody tr th:only-of-type {\n",
       "        vertical-align: middle;\n",
       "    }\n",
       "\n",
       "    .dataframe tbody tr th {\n",
       "        vertical-align: top;\n",
       "    }\n",
       "\n",
       "    .dataframe thead th {\n",
       "        text-align: right;\n",
       "    }\n",
       "</style>\n",
       "<table border=\"1\" class=\"dataframe\">\n",
       "  <thead>\n",
       "    <tr style=\"text-align: right;\">\n",
       "      <th></th>\n",
       "      <th>square_feet</th>\n",
       "      <th>tax_value</th>\n",
       "      <th>baseline_preds</th>\n",
       "      <th>yhat</th>\n",
       "      <th>baseline_res</th>\n",
       "      <th>yhat_res</th>\n",
       "      <th>baseline_res_squared</th>\n",
       "      <th>yhat_res_squared</th>\n",
       "      <th>yhat_mean_res</th>\n",
       "      <th>yhat_mean_res_squared</th>\n",
       "    </tr>\n",
       "  </thead>\n",
       "  <tbody>\n",
       "    <tr>\n",
       "      <th>397209</th>\n",
       "      <td>2287</td>\n",
       "      <td>741697</td>\n",
       "      <td>399082.32</td>\n",
       "      <td>513857.544211</td>\n",
       "      <td>-342614.68</td>\n",
       "      <td>-227839.455789</td>\n",
       "      <td>1.173848e+11</td>\n",
       "      <td>5.191082e+10</td>\n",
       "      <td>114775.224211</td>\n",
       "      <td>1.317335e+10</td>\n",
       "    </tr>\n",
       "    <tr>\n",
       "      <th>920033</th>\n",
       "      <td>918</td>\n",
       "      <td>158409</td>\n",
       "      <td>399082.32</td>\n",
       "      <td>192806.331660</td>\n",
       "      <td>240673.32</td>\n",
       "      <td>34397.331660</td>\n",
       "      <td>5.792365e+10</td>\n",
       "      <td>1.183176e+09</td>\n",
       "      <td>-206275.988340</td>\n",
       "      <td>4.254978e+10</td>\n",
       "    </tr>\n",
       "    <tr>\n",
       "      <th>311353</th>\n",
       "      <td>1932</td>\n",
       "      <td>374400</td>\n",
       "      <td>399082.32</td>\n",
       "      <td>430604.673169</td>\n",
       "      <td>24682.32</td>\n",
       "      <td>56204.673169</td>\n",
       "      <td>6.092169e+08</td>\n",
       "      <td>3.158965e+09</td>\n",
       "      <td>31522.353169</td>\n",
       "      <td>9.936587e+08</td>\n",
       "    </tr>\n",
       "    <tr>\n",
       "      <th>672101</th>\n",
       "      <td>2717</td>\n",
       "      <td>932755</td>\n",
       "      <td>399082.32</td>\n",
       "      <td>614699.049979</td>\n",
       "      <td>-533672.68</td>\n",
       "      <td>-318055.950021</td>\n",
       "      <td>2.848065e+11</td>\n",
       "      <td>1.011596e+11</td>\n",
       "      <td>215616.729979</td>\n",
       "      <td>4.649057e+10</td>\n",
       "    </tr>\n",
       "    <tr>\n",
       "      <th>450335</th>\n",
       "      <td>1476</td>\n",
       "      <td>515000</td>\n",
       "      <td>399082.32</td>\n",
       "      <td>323665.774029</td>\n",
       "      <td>-115917.68</td>\n",
       "      <td>-191334.225971</td>\n",
       "      <td>1.343691e+10</td>\n",
       "      <td>3.660879e+10</td>\n",
       "      <td>-75416.545971</td>\n",
       "      <td>5.687655e+09</td>\n",
       "    </tr>\n",
       "  </tbody>\n",
       "</table>\n",
       "</div>"
      ],
      "text/plain": [
       "        square_feet  tax_value  baseline_preds           yhat  baseline_res  \\\n",
       "397209         2287     741697       399082.32  513857.544211    -342614.68   \n",
       "920033          918     158409       399082.32  192806.331660     240673.32   \n",
       "311353         1932     374400       399082.32  430604.673169      24682.32   \n",
       "672101         2717     932755       399082.32  614699.049979    -533672.68   \n",
       "450335         1476     515000       399082.32  323665.774029    -115917.68   \n",
       "\n",
       "             yhat_res  baseline_res_squared  yhat_res_squared  yhat_mean_res  \\\n",
       "397209 -227839.455789          1.173848e+11      5.191082e+10  114775.224211   \n",
       "920033   34397.331660          5.792365e+10      1.183176e+09 -206275.988340   \n",
       "311353   56204.673169          6.092169e+08      3.158965e+09   31522.353169   \n",
       "672101 -318055.950021          2.848065e+11      1.011596e+11  215616.729979   \n",
       "450335 -191334.225971          1.343691e+10      3.660879e+10  -75416.545971   \n",
       "\n",
       "        yhat_mean_res_squared  \n",
       "397209           1.317335e+10  \n",
       "920033           4.254978e+10  \n",
       "311353           9.936587e+08  \n",
       "672101           4.649057e+10  \n",
       "450335           5.687655e+09  "
      ]
     },
     "execution_count": 23,
     "metadata": {},
     "output_type": "execute_result"
    }
   ],
   "source": [
    "preds['yhat_mean_res_squared'] = preds['yhat_mean_res'] ** 2\n",
    "preds.head()"
   ]
  },
  {
   "cell_type": "markdown",
   "id": "05dace95",
   "metadata": {},
   "source": [
    "Write python code that compares the sum of squared errors for your model against the sum of squared errors for the baseline model and outputs whether or not your model performs better than the baseline model."
   ]
  },
  {
   "cell_type": "code",
   "execution_count": 24,
   "id": "e2a83cb1",
   "metadata": {},
   "outputs": [
    {
     "data": {
      "text/plain": [
       "3.9712356083954504e+16"
      ]
     },
     "execution_count": 24,
     "metadata": {},
     "output_type": "execute_result"
    }
   ],
   "source": [
    "ess_baseline = 0\n",
    "ess_yhat = preds['yhat_mean_res_squared'].sum()\n",
    "ess_yhat"
   ]
  },
  {
   "cell_type": "code",
   "execution_count": 25,
   "id": "46e09868",
   "metadata": {},
   "outputs": [
    {
     "data": {
      "text/plain": [
       "1.1498901319990134e+17"
      ]
     },
     "execution_count": 25,
     "metadata": {},
     "output_type": "execute_result"
    }
   ],
   "source": [
    "tss_baseline = sse_baseline + ess_baseline\n",
    "tss_baseline"
   ]
  },
  {
   "cell_type": "code",
   "execution_count": 26,
   "id": "7190e978",
   "metadata": {},
   "outputs": [
    {
     "data": {
      "text/plain": [
       "1.1498901319990131e+17"
      ]
     },
     "execution_count": 26,
     "metadata": {},
     "output_type": "execute_result"
    }
   ],
   "source": [
    "tss_yhat = sse_yhat + ess_yhat\n",
    "tss_yhat"
   ]
  },
  {
   "cell_type": "code",
   "execution_count": 27,
   "id": "415acb49",
   "metadata": {},
   "outputs": [
    {
     "data": {
      "text/plain": [
       "0.0"
      ]
     },
     "execution_count": 27,
     "metadata": {},
     "output_type": "execute_result"
    }
   ],
   "source": [
    "ess_baseline / tss_baseline"
   ]
  },
  {
   "cell_type": "code",
   "execution_count": 28,
   "id": "5b29a795",
   "metadata": {},
   "outputs": [
    {
     "data": {
      "text/plain": [
       "0.34535783009909843"
      ]
     },
     "execution_count": 28,
     "metadata": {},
     "output_type": "execute_result"
    }
   ],
   "source": [
    "ess_yhat / tss_yhat"
   ]
  },
  {
   "cell_type": "markdown",
   "id": "994b8d78",
   "metadata": {},
   "source": [
    "What is the amount of variance explained in your model?"
   ]
  },
  {
   "cell_type": "code",
   "execution_count": 32,
   "id": "06ae4f0d",
   "metadata": {},
   "outputs": [
    {
     "data": {
      "text/plain": [
       "0.3453578300990986"
      ]
     },
     "execution_count": 32,
     "metadata": {},
     "output_type": "execute_result"
    }
   ],
   "source": [
    "evs = explained_variance_score(preds['tax_value'], preds['yhat'])\n",
    "evs"
   ]
  },
  {
   "cell_type": "markdown",
   "id": "25ccd367",
   "metadata": {},
   "source": [
    "Is your model better than the baseline model?"
   ]
  },
  {
   "cell_type": "code",
   "execution_count": 40,
   "id": "e672056a",
   "metadata": {},
   "outputs": [
    {
     "name": "stdout",
     "output_type": "stream",
     "text": [
      "False\n"
     ]
    }
   ],
   "source": [
    "    if evs > baseline:\n",
    "        print('My OSL model baseline performs better than the baseline')\n",
    "    else:\n",
    "        print('My OSL model baseline does not perform better than the baseline')"
   ]
  },
  {
   "cell_type": "markdown",
   "id": "f704518a",
   "metadata": {},
   "source": [
    "Create a file named evaluate.py that contains the following functions.  \n",
    "  \n",
    "plot_residuals(y, yhat): creates a residual plot  \n",
    "regression_errors(y, yhat): returns the following values:  \n",
    "sum of squared errors (SSE)  \n",
    "explained sum of squares (ESS)  \n",
    "total sum of squares (TSS)  \n",
    "mean squared error (MSE)  \n",
    "root mean squared error (RMSE)  \n",
    "baseline_mean_errors(y): computes the SSE, MSE, and RMSE for the baseline model  \n",
    "better_than_baseline(y, yhat): returns true if your model performs better than the baseline, otherwise false  "
   ]
  },
  {
   "cell_type": "code",
   "execution_count": 61,
   "id": "9430cdbb",
   "metadata": {},
   "outputs": [],
   "source": [
    "#residual plot\n",
    "def plot_residuals(y, yhat):\n",
    "    '''this function takes in y and yhat and creates a residual plot'''\n",
    "    residuals = y - yhat\n",
    "    \n",
    "    plt.scatter(x=y, y=residuals)\n",
    "    plt.xlabel('Home Value')\n",
    "    plt.ylabel('Residuals')\n",
    "    plt.title('Residual vs Home Value Plot')\n",
    "    plt.show()\n",
    "\n",
    "def regression_errors(y, yhat):\n",
    "    '''this functions takes in y and yhat and returns SSE, ESS, TSS, MSE, and RMSE'''   \n",
    "    MSE = mean_squared_error(y, yhat)\n",
    "    SSE = MSE * len(y)\n",
    "    RMSE = MSE**.5\n",
    "    \n",
    "    ESS = ((yhat - y.mean())**2).sum()\n",
    "    TSS = ESS + SSE\n",
    "    \n",
    "    return SSE, ESS, TSS, MSE, RMSE\n",
    "\n",
    "def baseline_mean_errors(y):\n",
    "    '''this function computes the SSE, MSE, and RMSE for the baseline model'''   \n",
    "    baseline = np.repeat(y.mean(), len(y))\n",
    "    \n",
    "    MSE = mean_squared_error(y, baseline)\n",
    "    SSE = MSE * len(y)\n",
    "    RMSE = MSE**.5\n",
    "    \n",
    "    return SSE, MSE, RMSE\n",
    "\n",
    "def better_than_baseline(y, yhat):\n",
    "    '''this function returns true if the model performs better than the baseline, otherwise \n",
    "   it returns False'''\n",
    "    SSE, ESS, TSS, MSE, RMSE = regression_errors(y, yhat)\n",
    "    \n",
    "    SSE_baseline, MSE_baseline, RMSE_baseline = baseline_mean_errors(y)\n",
    "    \n",
    "    if SSE < SSE_baseline:\n",
    "        print('My OSL model performs better than baseline')\n",
    "    else:\n",
    "        print('My OSL model performs worse than baseline.')\n",
    "    \n",
    "    \n",
    "    \n",
    "    \n",
    "    \n",
    "    \n",
    "    "
   ]
  },
  {
   "cell_type": "code",
   "execution_count": 58,
   "id": "45875657",
   "metadata": {},
   "outputs": [
    {
     "data": {
      "image/png": "[encoded data removed]",
      "text/plain": [
       "<Figure size 640x480 with 1 Axes>"
      ]
     },
     "metadata": {},
     "output_type": "display_data"
    }
   ],
   "source": [
    "plot_residuals(preds.tax_value, preds.yhat)"
   ]
  },
  {
   "cell_type": "code",
   "execution_count": 68,
   "id": "1ed1be46",
   "metadata": {},
   "outputs": [
    {
     "data": {
      "text/plain": [
       "(7.52766571159468e+16,\n",
       " 3.971235608395451e+16,\n",
       " 1.1498901319990131e+17,\n",
       " 64486957358.544556,\n",
       " 253942.82301050477)"
      ]
     },
     "execution_count": 68,
     "metadata": {},
     "output_type": "execute_result"
    }
   ],
   "source": [
    "regression_errors(preds.tax_value, preds.yhat)"
   ]
  },
  {
   "cell_type": "code",
   "execution_count": 63,
   "id": "eaa574a4",
   "metadata": {},
   "outputs": [
    {
     "data": {
      "text/plain": [
       "(1.1498901319990133e+17, 98507185029.50471, 313858.5430245682)"
      ]
     },
     "execution_count": 63,
     "metadata": {},
     "output_type": "execute_result"
    }
   ],
   "source": [
    "baseline_mean_errors(preds.tax_value)"
   ]
  },
  {
   "cell_type": "code",
   "execution_count": 69,
   "id": "72e9095c",
   "metadata": {},
   "outputs": [
    {
     "name": "stdout",
     "output_type": "stream",
     "text": [
      "My OSL model performs better than baseline\n"
     ]
    }
   ],
   "source": [
    "better_than_baseline(preds.tax_value, preds.yhat)"
   ]
  },
  {
   "cell_type": "code",
   "execution_count": null,
   "id": "d733de7b",
   "metadata": {},
   "outputs": [],
   "source": []
  }
 ],
 "metadata": {
  "kernelspec": {
   "display_name": "Python 3 (ipykernel)",
   "language": "python",
   "name": "python3"
  },
  "language_info": {
   "codemirror_mode": {
    "name": "ipython",
    "version": 3
   },
   "file_extension": ".py",
   "mimetype": "text/x-python",
   "name": "python",
   "nbconvert_exporter": "python",
   "pygments_lexer": "ipython3",
   "version": "3.9.13"
  }
 },
 "nbformat": 4,
 "nbformat_minor": 5
}
