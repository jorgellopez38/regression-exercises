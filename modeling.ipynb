{
 "cells": [
  {
   "cell_type": "code",
   "execution_count": 1,
   "id": "954346be",
   "metadata": {},
   "outputs": [],
   "source": [
    "import pandas as pd\n",
    "import numpy as np\n",
    "import matplotlib.pyplot as plt\n",
    "import seaborn as sns\n",
    "from math import sqrt\n",
    "from sklearn.preprocessing import MinMaxScaler, PolynomialFeatures\n",
    "from sklearn.feature_selection import SelectKBest, f_regression, RFE\n",
    "from sklearn.linear_model import LinearRegression, LassoLars, TweedieRegressor\n",
    "from sklearn.model_selection import train_test_split\n",
    "from sklearn.metrics import mean_squared_error\n",
    "import acquire as a\n",
    "import wrangle as w\n",
    "from wrangle import scale_data\n",
    "import warnings\n",
    "warnings.filterwarnings(\"ignore\")"
   ]
  },
  {
   "cell_type": "code",
   "execution_count": 2,
   "id": "c744438a",
   "metadata": {},
   "outputs": [],
   "source": [
    "df = a.get_zillow_data()"
   ]
  },
  {
   "cell_type": "code",
   "execution_count": 3,
   "id": "ba219ec7",
   "metadata": {},
   "outputs": [
    {
     "data": {
      "text/html": [
       "<div>\n",
       "<style scoped>\n",
       "    .dataframe tbody tr th:only-of-type {\n",
       "        vertical-align: middle;\n",
       "    }\n",
       "\n",
       "    .dataframe tbody tr th {\n",
       "        vertical-align: top;\n",
       "    }\n",
       "\n",
       "    .dataframe thead th {\n",
       "        text-align: right;\n",
       "    }\n",
       "</style>\n",
       "<table border=\"1\" class=\"dataframe\">\n",
       "  <thead>\n",
       "    <tr style=\"text-align: right;\">\n",
       "      <th></th>\n",
       "      <th>bedroomcnt</th>\n",
       "      <th>bathroomcnt</th>\n",
       "      <th>calculatedfinishedsquarefeet</th>\n",
       "      <th>taxvaluedollarcnt</th>\n",
       "      <th>yearbuilt</th>\n",
       "      <th>taxamount</th>\n",
       "      <th>fips</th>\n",
       "    </tr>\n",
       "  </thead>\n",
       "  <tbody>\n",
       "    <tr>\n",
       "      <th>0</th>\n",
       "      <td>0.0</td>\n",
       "      <td>0.0</td>\n",
       "      <td>NaN</td>\n",
       "      <td>27516.0</td>\n",
       "      <td>NaN</td>\n",
       "      <td>NaN</td>\n",
       "      <td>6037.0</td>\n",
       "    </tr>\n",
       "    <tr>\n",
       "      <th>1</th>\n",
       "      <td>0.0</td>\n",
       "      <td>0.0</td>\n",
       "      <td>NaN</td>\n",
       "      <td>10.0</td>\n",
       "      <td>NaN</td>\n",
       "      <td>NaN</td>\n",
       "      <td>6037.0</td>\n",
       "    </tr>\n",
       "    <tr>\n",
       "      <th>2</th>\n",
       "      <td>0.0</td>\n",
       "      <td>0.0</td>\n",
       "      <td>NaN</td>\n",
       "      <td>10.0</td>\n",
       "      <td>NaN</td>\n",
       "      <td>NaN</td>\n",
       "      <td>6037.0</td>\n",
       "    </tr>\n",
       "    <tr>\n",
       "      <th>3</th>\n",
       "      <td>0.0</td>\n",
       "      <td>0.0</td>\n",
       "      <td>NaN</td>\n",
       "      <td>2108.0</td>\n",
       "      <td>NaN</td>\n",
       "      <td>174.21</td>\n",
       "      <td>6037.0</td>\n",
       "    </tr>\n",
       "    <tr>\n",
       "      <th>4</th>\n",
       "      <td>4.0</td>\n",
       "      <td>2.0</td>\n",
       "      <td>3633.0</td>\n",
       "      <td>296425.0</td>\n",
       "      <td>2005.0</td>\n",
       "      <td>6941.39</td>\n",
       "      <td>6037.0</td>\n",
       "    </tr>\n",
       "  </tbody>\n",
       "</table>\n",
       "</div>"
      ],
      "text/plain": [
       "   bedroomcnt  bathroomcnt  calculatedfinishedsquarefeet  taxvaluedollarcnt  \\\n",
       "0         0.0          0.0                           NaN            27516.0   \n",
       "1         0.0          0.0                           NaN               10.0   \n",
       "2         0.0          0.0                           NaN               10.0   \n",
       "3         0.0          0.0                           NaN             2108.0   \n",
       "4         4.0          2.0                        3633.0           296425.0   \n",
       "\n",
       "   yearbuilt  taxamount    fips  \n",
       "0        NaN        NaN  6037.0  \n",
       "1        NaN        NaN  6037.0  \n",
       "2        NaN        NaN  6037.0  \n",
       "3        NaN     174.21  6037.0  \n",
       "4     2005.0    6941.39  6037.0  "
      ]
     },
     "execution_count": 3,
     "metadata": {},
     "output_type": "execute_result"
    }
   ],
   "source": [
    "df.head()"
   ]
  },
  {
   "cell_type": "code",
   "execution_count": 4,
   "id": "5db381c9",
   "metadata": {},
   "outputs": [],
   "source": [
    "train, validate, test = w.wrangle_zillow()"
   ]
  },
  {
   "cell_type": "code",
   "execution_count": 5,
   "id": "57a59cbb",
   "metadata": {},
   "outputs": [
    {
     "data": {
      "text/html": [
       "<div>\n",
       "<style scoped>\n",
       "    .dataframe tbody tr th:only-of-type {\n",
       "        vertical-align: middle;\n",
       "    }\n",
       "\n",
       "    .dataframe tbody tr th {\n",
       "        vertical-align: top;\n",
       "    }\n",
       "\n",
       "    .dataframe thead th {\n",
       "        text-align: right;\n",
       "    }\n",
       "</style>\n",
       "<table border=\"1\" class=\"dataframe\">\n",
       "  <thead>\n",
       "    <tr style=\"text-align: right;\">\n",
       "      <th></th>\n",
       "      <th>bedrooms</th>\n",
       "      <th>bathrooms</th>\n",
       "      <th>square_feet</th>\n",
       "      <th>tax_value</th>\n",
       "      <th>year_built</th>\n",
       "      <th>tax_amount</th>\n",
       "      <th>fips</th>\n",
       "    </tr>\n",
       "  </thead>\n",
       "  <tbody>\n",
       "    <tr>\n",
       "      <th>397209</th>\n",
       "      <td>4</td>\n",
       "      <td>3.0</td>\n",
       "      <td>2287</td>\n",
       "      <td>741697</td>\n",
       "      <td>1997</td>\n",
       "      <td>8642.98</td>\n",
       "      <td>6059</td>\n",
       "    </tr>\n",
       "    <tr>\n",
       "      <th>920033</th>\n",
       "      <td>2</td>\n",
       "      <td>1.0</td>\n",
       "      <td>918</td>\n",
       "      <td>158409</td>\n",
       "      <td>1947</td>\n",
       "      <td>2381.94</td>\n",
       "      <td>6037</td>\n",
       "    </tr>\n",
       "    <tr>\n",
       "      <th>311353</th>\n",
       "      <td>4</td>\n",
       "      <td>2.5</td>\n",
       "      <td>1932</td>\n",
       "      <td>374400</td>\n",
       "      <td>1976</td>\n",
       "      <td>4738.44</td>\n",
       "      <td>6059</td>\n",
       "    </tr>\n",
       "    <tr>\n",
       "      <th>672101</th>\n",
       "      <td>3</td>\n",
       "      <td>3.0</td>\n",
       "      <td>2717</td>\n",
       "      <td>932755</td>\n",
       "      <td>1925</td>\n",
       "      <td>10822.44</td>\n",
       "      <td>6037</td>\n",
       "    </tr>\n",
       "    <tr>\n",
       "      <th>450335</th>\n",
       "      <td>3</td>\n",
       "      <td>2.5</td>\n",
       "      <td>1476</td>\n",
       "      <td>515000</td>\n",
       "      <td>1973</td>\n",
       "      <td>5925.12</td>\n",
       "      <td>6059</td>\n",
       "    </tr>\n",
       "  </tbody>\n",
       "</table>\n",
       "</div>"
      ],
      "text/plain": [
       "        bedrooms  bathrooms  square_feet  tax_value  year_built  tax_amount  \\\n",
       "397209         4        3.0         2287     741697        1997     8642.98   \n",
       "920033         2        1.0          918     158409        1947     2381.94   \n",
       "311353         4        2.5         1932     374400        1976     4738.44   \n",
       "672101         3        3.0         2717     932755        1925    10822.44   \n",
       "450335         3        2.5         1476     515000        1973     5925.12   \n",
       "\n",
       "        fips  \n",
       "397209  6059  \n",
       "920033  6037  \n",
       "311353  6059  \n",
       "672101  6037  \n",
       "450335  6059  "
      ]
     },
     "execution_count": 5,
     "metadata": {},
     "output_type": "execute_result"
    }
   ],
   "source": [
    "train.head()"
   ]
  },
  {
   "cell_type": "code",
   "execution_count": 6,
   "id": "28897aff",
   "metadata": {},
   "outputs": [],
   "source": [
    "train_scaled, validate_scaled, test_scaled = w.scale_data(train, validate, test)\n"
   ]
  },
  {
   "cell_type": "code",
   "execution_count": 7,
   "id": "bebe85f8",
   "metadata": {},
   "outputs": [
    {
     "data": {
      "text/html": [
       "<div>\n",
       "<style scoped>\n",
       "    .dataframe tbody tr th:only-of-type {\n",
       "        vertical-align: middle;\n",
       "    }\n",
       "\n",
       "    .dataframe tbody tr th {\n",
       "        vertical-align: top;\n",
       "    }\n",
       "\n",
       "    .dataframe thead th {\n",
       "        text-align: right;\n",
       "    }\n",
       "</style>\n",
       "<table border=\"1\" class=\"dataframe\">\n",
       "  <thead>\n",
       "    <tr style=\"text-align: right;\">\n",
       "      <th></th>\n",
       "      <th>bedrooms</th>\n",
       "      <th>bathrooms</th>\n",
       "      <th>square_feet</th>\n",
       "      <th>tax_value</th>\n",
       "      <th>year_built</th>\n",
       "      <th>tax_amount</th>\n",
       "      <th>fips</th>\n",
       "    </tr>\n",
       "  </thead>\n",
       "  <tbody>\n",
       "    <tr>\n",
       "      <th>397209</th>\n",
       "      <td>0.666667</td>\n",
       "      <td>0.500000</td>\n",
       "      <td>0.231400</td>\n",
       "      <td>741697</td>\n",
       "      <td>1997</td>\n",
       "      <td>0.132613</td>\n",
       "      <td>6059</td>\n",
       "    </tr>\n",
       "    <tr>\n",
       "      <th>920033</th>\n",
       "      <td>0.333333</td>\n",
       "      <td>0.166667</td>\n",
       "      <td>0.092823</td>\n",
       "      <td>158409</td>\n",
       "      <td>1947</td>\n",
       "      <td>0.036477</td>\n",
       "      <td>6037</td>\n",
       "    </tr>\n",
       "    <tr>\n",
       "      <th>311353</th>\n",
       "      <td>0.666667</td>\n",
       "      <td>0.416667</td>\n",
       "      <td>0.195465</td>\n",
       "      <td>374400</td>\n",
       "      <td>1976</td>\n",
       "      <td>0.072660</td>\n",
       "      <td>6059</td>\n",
       "    </tr>\n",
       "    <tr>\n",
       "      <th>672101</th>\n",
       "      <td>0.500000</td>\n",
       "      <td>0.500000</td>\n",
       "      <td>0.274927</td>\n",
       "      <td>932755</td>\n",
       "      <td>1925</td>\n",
       "      <td>0.166078</td>\n",
       "      <td>6037</td>\n",
       "    </tr>\n",
       "    <tr>\n",
       "      <th>450335</th>\n",
       "      <td>0.500000</td>\n",
       "      <td>0.416667</td>\n",
       "      <td>0.149307</td>\n",
       "      <td>515000</td>\n",
       "      <td>1973</td>\n",
       "      <td>0.090881</td>\n",
       "      <td>6059</td>\n",
       "    </tr>\n",
       "  </tbody>\n",
       "</table>\n",
       "</div>"
      ],
      "text/plain": [
       "        bedrooms  bathrooms  square_feet  tax_value  year_built  tax_amount  \\\n",
       "397209  0.666667   0.500000     0.231400     741697        1997    0.132613   \n",
       "920033  0.333333   0.166667     0.092823     158409        1947    0.036477   \n",
       "311353  0.666667   0.416667     0.195465     374400        1976    0.072660   \n",
       "672101  0.500000   0.500000     0.274927     932755        1925    0.166078   \n",
       "450335  0.500000   0.416667     0.149307     515000        1973    0.090881   \n",
       "\n",
       "        fips  \n",
       "397209  6059  \n",
       "920033  6037  \n",
       "311353  6059  \n",
       "672101  6037  \n",
       "450335  6059  "
      ]
     },
     "execution_count": 7,
     "metadata": {},
     "output_type": "execute_result"
    }
   ],
   "source": [
    "train_scaled.head()"
   ]
  },
  {
   "cell_type": "code",
   "execution_count": 8,
   "id": "a4dae6f3",
   "metadata": {},
   "outputs": [],
   "source": [
    "X_train_scaled = train[['bedrooms', 'bathrooms', 'square_feet', 'tax_amount']] \n",
    "y_train = train['tax_value']"
   ]
  },
  {
   "cell_type": "code",
   "execution_count": 13,
   "id": "cefec64c",
   "metadata": {},
   "outputs": [],
   "source": [
    "mm_scaler = MinMaxScaler()\n",
    "mm_scaler.fit(validate[['bedrooms', 'bathrooms', 'square_feet', 'tax_amount']])\n",
    "validate[['bedrooms', 'bathrooms', 'square_feet', 'tax_amount']] = mm_scaler.transform(validate[['bedrooms', 'bathrooms', 'square_feet', 'tax_amount']])\n",
    "X_validate = validate.drop(columns=['tax_value', 'year_built', 'fips'])\n",
    "X_train = train.drop(columns=['tax_value', 'year_built', 'fips'])\n",
    "y_validate = validate['tax_value']"
   ]
  },
  {
   "cell_type": "code",
   "execution_count": 14,
   "id": "cb468ecb",
   "metadata": {},
   "outputs": [],
   "source": [
    "lm = LinearRegression()"
   ]
  },
  {
   "cell_type": "code",
   "execution_count": 15,
   "id": "0a972c04",
   "metadata": {},
   "outputs": [
    {
     "data": {
      "text/plain": [
       "LinearRegression()"
      ]
     },
     "execution_count": 15,
     "metadata": {},
     "output_type": "execute_result"
    }
   ],
   "source": [
    "lm.fit(X_train, y_train)"
   ]
  },
  {
   "cell_type": "code",
   "execution_count": 16,
   "id": "75ff4098",
   "metadata": {},
   "outputs": [],
   "source": [
    "lm_preds = lm.predict(X_train)"
   ]
  },
  {
   "cell_type": "code",
   "execution_count": 21,
   "id": "0985bc15",
   "metadata": {},
   "outputs": [
    {
     "data": {
      "text/html": [
       "<div>\n",
       "<style scoped>\n",
       "    .dataframe tbody tr th:only-of-type {\n",
       "        vertical-align: middle;\n",
       "    }\n",
       "\n",
       "    .dataframe tbody tr th {\n",
       "        vertical-align: top;\n",
       "    }\n",
       "\n",
       "    .dataframe thead th {\n",
       "        text-align: right;\n",
       "    }\n",
       "</style>\n",
       "<table border=\"1\" class=\"dataframe\">\n",
       "  <thead>\n",
       "    <tr style=\"text-align: right;\">\n",
       "      <th></th>\n",
       "      <th>actual</th>\n",
       "      <th>lm_preds</th>\n",
       "    </tr>\n",
       "  </thead>\n",
       "  <tbody>\n",
       "    <tr>\n",
       "      <th>397209</th>\n",
       "      <td>741697</td>\n",
       "      <td>710909.991846</td>\n",
       "    </tr>\n",
       "    <tr>\n",
       "      <th>920033</th>\n",
       "      <td>158409</td>\n",
       "      <td>183115.572900</td>\n",
       "    </tr>\n",
       "    <tr>\n",
       "      <th>311353</th>\n",
       "      <td>374400</td>\n",
       "      <td>383272.767035</td>\n",
       "    </tr>\n",
       "    <tr>\n",
       "      <th>672101</th>\n",
       "      <td>932755</td>\n",
       "      <td>901318.639047</td>\n",
       "    </tr>\n",
       "    <tr>\n",
       "      <th>450335</th>\n",
       "      <td>515000</td>\n",
       "      <td>478193.132586</td>\n",
       "    </tr>\n",
       "  </tbody>\n",
       "</table>\n",
       "</div>"
      ],
      "text/plain": [
       "        actual       lm_preds\n",
       "397209  741697  710909.991846\n",
       "920033  158409  183115.572900\n",
       "311353  374400  383272.767035\n",
       "672101  932755  901318.639047\n",
       "450335  515000  478193.132586"
      ]
     },
     "execution_count": 21,
     "metadata": {},
     "output_type": "execute_result"
    }
   ],
   "source": [
    "preds_df = pd.DataFrame({'actual': y_train,\n",
    "                         'lm_preds': lm_preds})\n",
    "preds_df.head()"
   ]
  },
  {
   "cell_type": "code",
   "execution_count": 22,
   "id": "13aad9f0",
   "metadata": {},
   "outputs": [
    {
     "data": {
      "text/plain": [
       "67034.68671281275"
      ]
     },
     "execution_count": 22,
     "metadata": {},
     "output_type": "execute_result"
    }
   ],
   "source": [
    "lm_rmse = sqrt(mean_squared_error(preds_df['lm_preds'], preds_df['actual']))\n",
    "lm_rmse"
   ]
  },
  {
   "cell_type": "code",
   "execution_count": 23,
   "id": "89a98823",
   "metadata": {},
   "outputs": [],
   "source": [
    "lasso = LassoLars(alpha=0.1)"
   ]
  },
  {
   "cell_type": "code",
   "execution_count": 24,
   "id": "d2ce0713",
   "metadata": {},
   "outputs": [],
   "source": [
    "lasso.fit(X_train, y_train)\n",
    "\n",
    "lasso_preds = lasso.predict(X_train)"
   ]
  },
  {
   "cell_type": "code",
   "execution_count": 25,
   "id": "3ecb8792",
   "metadata": {},
   "outputs": [
    {
     "data": {
      "text/html": [
       "<div>\n",
       "<style scoped>\n",
       "    .dataframe tbody tr th:only-of-type {\n",
       "        vertical-align: middle;\n",
       "    }\n",
       "\n",
       "    .dataframe tbody tr th {\n",
       "        vertical-align: top;\n",
       "    }\n",
       "\n",
       "    .dataframe thead th {\n",
       "        text-align: right;\n",
       "    }\n",
       "</style>\n",
       "<table border=\"1\" class=\"dataframe\">\n",
       "  <thead>\n",
       "    <tr style=\"text-align: right;\">\n",
       "      <th></th>\n",
       "      <th>actual</th>\n",
       "      <th>lm_preds</th>\n",
       "      <th>lasso_preds</th>\n",
       "    </tr>\n",
       "  </thead>\n",
       "  <tbody>\n",
       "    <tr>\n",
       "      <th>397209</th>\n",
       "      <td>741697</td>\n",
       "      <td>710909.991846</td>\n",
       "      <td>711092.041234</td>\n",
       "    </tr>\n",
       "    <tr>\n",
       "      <th>920033</th>\n",
       "      <td>158409</td>\n",
       "      <td>183115.572900</td>\n",
       "      <td>182886.310534</td>\n",
       "    </tr>\n",
       "    <tr>\n",
       "      <th>311353</th>\n",
       "      <td>374400</td>\n",
       "      <td>383272.767035</td>\n",
       "      <td>383501.019791</td>\n",
       "    </tr>\n",
       "    <tr>\n",
       "      <th>672101</th>\n",
       "      <td>932755</td>\n",
       "      <td>901318.639047</td>\n",
       "      <td>900943.778485</td>\n",
       "    </tr>\n",
       "    <tr>\n",
       "      <th>450335</th>\n",
       "      <td>515000</td>\n",
       "      <td>478193.132586</td>\n",
       "      <td>478567.555320</td>\n",
       "    </tr>\n",
       "  </tbody>\n",
       "</table>\n",
       "</div>"
      ],
      "text/plain": [
       "        actual       lm_preds    lasso_preds\n",
       "397209  741697  710909.991846  711092.041234\n",
       "920033  158409  183115.572900  182886.310534\n",
       "311353  374400  383272.767035  383501.019791\n",
       "672101  932755  901318.639047  900943.778485\n",
       "450335  515000  478193.132586  478567.555320"
      ]
     },
     "execution_count": 25,
     "metadata": {},
     "output_type": "execute_result"
    }
   ],
   "source": [
    "preds_df['lasso_preds'] = lasso_preds\n",
    "preds_df.head()"
   ]
  },
  {
   "cell_type": "code",
   "execution_count": 26,
   "id": "e8fe1bc5",
   "metadata": {},
   "outputs": [
    {
     "data": {
      "text/plain": [
       "67035.8026488998"
      ]
     },
     "execution_count": 26,
     "metadata": {},
     "output_type": "execute_result"
    }
   ],
   "source": [
    "lasso_rmse = sqrt(mean_squared_error(preds_df['actual'], preds_df['lasso_preds']))\n",
    "lasso_rmse"
   ]
  },
  {
   "cell_type": "code",
   "execution_count": 27,
   "id": "e7400373",
   "metadata": {},
   "outputs": [
    {
     "data": {
      "text/plain": [
       "PolynomialFeatures()"
      ]
     },
     "execution_count": 27,
     "metadata": {},
     "output_type": "execute_result"
    }
   ],
   "source": [
    "pf = PolynomialFeatures(degree=2)\n",
    "\n",
    "pf.fit(X_train, y_train)"
   ]
  },
  {
   "cell_type": "code",
   "execution_count": 28,
   "id": "45dbadf8",
   "metadata": {},
   "outputs": [],
   "source": [
    "X_polynomial = pf.transform(X_train)"
   ]
  },
  {
   "cell_type": "code",
   "execution_count": 29,
   "id": "068e18b9",
   "metadata": {},
   "outputs": [
    {
     "data": {
      "text/plain": [
       "LinearRegression()"
      ]
     },
     "execution_count": 29,
     "metadata": {},
     "output_type": "execute_result"
    }
   ],
   "source": [
    "lm2 = LinearRegression()\n",
    "\n",
    "lm2.fit(X_polynomial, y_train)"
   ]
  },
  {
   "cell_type": "code",
   "execution_count": 30,
   "id": "fd1577ab",
   "metadata": {},
   "outputs": [
    {
     "data": {
      "text/html": [
       "<div>\n",
       "<style scoped>\n",
       "    .dataframe tbody tr th:only-of-type {\n",
       "        vertical-align: middle;\n",
       "    }\n",
       "\n",
       "    .dataframe tbody tr th {\n",
       "        vertical-align: top;\n",
       "    }\n",
       "\n",
       "    .dataframe thead th {\n",
       "        text-align: right;\n",
       "    }\n",
       "</style>\n",
       "<table border=\"1\" class=\"dataframe\">\n",
       "  <thead>\n",
       "    <tr style=\"text-align: right;\">\n",
       "      <th></th>\n",
       "      <th>actual</th>\n",
       "      <th>lm_preds</th>\n",
       "      <th>lasso_preds</th>\n",
       "      <th>poly_preds</th>\n",
       "    </tr>\n",
       "  </thead>\n",
       "  <tbody>\n",
       "    <tr>\n",
       "      <th>397209</th>\n",
       "      <td>741697</td>\n",
       "      <td>710909.991846</td>\n",
       "      <td>711092.041234</td>\n",
       "      <td>718390.063110</td>\n",
       "    </tr>\n",
       "    <tr>\n",
       "      <th>920033</th>\n",
       "      <td>158409</td>\n",
       "      <td>183115.572900</td>\n",
       "      <td>182886.310534</td>\n",
       "      <td>179293.076330</td>\n",
       "    </tr>\n",
       "    <tr>\n",
       "      <th>311353</th>\n",
       "      <td>374400</td>\n",
       "      <td>383272.767035</td>\n",
       "      <td>383501.019791</td>\n",
       "      <td>388118.767005</td>\n",
       "    </tr>\n",
       "    <tr>\n",
       "      <th>672101</th>\n",
       "      <td>932755</td>\n",
       "      <td>901318.639047</td>\n",
       "      <td>900943.778485</td>\n",
       "      <td>915552.492987</td>\n",
       "    </tr>\n",
       "    <tr>\n",
       "      <th>450335</th>\n",
       "      <td>515000</td>\n",
       "      <td>478193.132586</td>\n",
       "      <td>478567.555320</td>\n",
       "      <td>486773.873145</td>\n",
       "    </tr>\n",
       "  </tbody>\n",
       "</table>\n",
       "</div>"
      ],
      "text/plain": [
       "        actual       lm_preds    lasso_preds     poly_preds\n",
       "397209  741697  710909.991846  711092.041234  718390.063110\n",
       "920033  158409  183115.572900  182886.310534  179293.076330\n",
       "311353  374400  383272.767035  383501.019791  388118.767005\n",
       "672101  932755  901318.639047  900943.778485  915552.492987\n",
       "450335  515000  478193.132586  478567.555320  486773.873145"
      ]
     },
     "execution_count": 30,
     "metadata": {},
     "output_type": "execute_result"
    }
   ],
   "source": [
    "preds_df['poly_preds'] = lm2.predict(X_polynomial)\n",
    "preds_df.head()"
   ]
  },
  {
   "cell_type": "code",
   "execution_count": 31,
   "id": "fb986109",
   "metadata": {},
   "outputs": [
    {
     "data": {
      "text/plain": [
       "66135.62748433588"
      ]
     },
     "execution_count": 31,
     "metadata": {},
     "output_type": "execute_result"
    }
   ],
   "source": [
    "poly_rmse = sqrt(mean_squared_error(preds_df['actual'], preds_df['poly_preds']))\n",
    "\n",
    "poly_rmse"
   ]
  },
  {
   "cell_type": "code",
   "execution_count": 32,
   "id": "cef0a500",
   "metadata": {},
   "outputs": [
    {
     "data": {
      "text/plain": [
       "LassoLars(alpha=0.1)"
      ]
     },
     "execution_count": 32,
     "metadata": {},
     "output_type": "execute_result"
    }
   ],
   "source": [
    "lasso2 = LassoLars(alpha=0.1)\n",
    "lasso2.fit(X_polynomial, y_train)"
   ]
  },
  {
   "cell_type": "code",
   "execution_count": 33,
   "id": "7db56d8b",
   "metadata": {},
   "outputs": [
    {
     "data": {
      "text/html": [
       "<div>\n",
       "<style scoped>\n",
       "    .dataframe tbody tr th:only-of-type {\n",
       "        vertical-align: middle;\n",
       "    }\n",
       "\n",
       "    .dataframe tbody tr th {\n",
       "        vertical-align: top;\n",
       "    }\n",
       "\n",
       "    .dataframe thead th {\n",
       "        text-align: right;\n",
       "    }\n",
       "</style>\n",
       "<table border=\"1\" class=\"dataframe\">\n",
       "  <thead>\n",
       "    <tr style=\"text-align: right;\">\n",
       "      <th></th>\n",
       "      <th>actual</th>\n",
       "      <th>lm_preds</th>\n",
       "      <th>lasso_preds</th>\n",
       "      <th>poly_preds</th>\n",
       "      <th>lasso_poly</th>\n",
       "    </tr>\n",
       "  </thead>\n",
       "  <tbody>\n",
       "    <tr>\n",
       "      <th>397209</th>\n",
       "      <td>741697</td>\n",
       "      <td>710909.991846</td>\n",
       "      <td>711092.041234</td>\n",
       "      <td>718390.063110</td>\n",
       "      <td>718702.200326</td>\n",
       "    </tr>\n",
       "    <tr>\n",
       "      <th>920033</th>\n",
       "      <td>158409</td>\n",
       "      <td>183115.572900</td>\n",
       "      <td>182886.310534</td>\n",
       "      <td>179293.076330</td>\n",
       "      <td>180249.634602</td>\n",
       "    </tr>\n",
       "    <tr>\n",
       "      <th>311353</th>\n",
       "      <td>374400</td>\n",
       "      <td>383272.767035</td>\n",
       "      <td>383501.019791</td>\n",
       "      <td>388118.767005</td>\n",
       "      <td>387755.362100</td>\n",
       "    </tr>\n",
       "    <tr>\n",
       "      <th>672101</th>\n",
       "      <td>932755</td>\n",
       "      <td>901318.639047</td>\n",
       "      <td>900943.778485</td>\n",
       "      <td>915552.492987</td>\n",
       "      <td>912023.530131</td>\n",
       "    </tr>\n",
       "    <tr>\n",
       "      <th>450335</th>\n",
       "      <td>515000</td>\n",
       "      <td>478193.132586</td>\n",
       "      <td>478567.555320</td>\n",
       "      <td>486773.873145</td>\n",
       "      <td>486335.534384</td>\n",
       "    </tr>\n",
       "  </tbody>\n",
       "</table>\n",
       "</div>"
      ],
      "text/plain": [
       "        actual       lm_preds    lasso_preds     poly_preds     lasso_poly\n",
       "397209  741697  710909.991846  711092.041234  718390.063110  718702.200326\n",
       "920033  158409  183115.572900  182886.310534  179293.076330  180249.634602\n",
       "311353  374400  383272.767035  383501.019791  388118.767005  387755.362100\n",
       "672101  932755  901318.639047  900943.778485  915552.492987  912023.530131\n",
       "450335  515000  478193.132586  478567.555320  486773.873145  486335.534384"
      ]
     },
     "execution_count": 33,
     "metadata": {},
     "output_type": "execute_result"
    }
   ],
   "source": [
    "preds_df['lasso_poly'] = lasso2.predict(X_polynomial)\n",
    "preds_df.head()"
   ]
  },
  {
   "cell_type": "code",
   "execution_count": 34,
   "id": "5dc6f938",
   "metadata": {},
   "outputs": [
    {
     "data": {
      "text/plain": [
       "66166.22198536614"
      ]
     },
     "execution_count": 34,
     "metadata": {},
     "output_type": "execute_result"
    }
   ],
   "source": [
    "lassopoly_rmse = sqrt(mean_squared_error(preds_df['actual'], preds_df['lasso_poly']))\n",
    "lassopoly_rmse"
   ]
  },
  {
   "cell_type": "code",
   "execution_count": 35,
   "id": "368777c7",
   "metadata": {},
   "outputs": [
    {
     "data": {
      "image/png": "[encoded data removed]",
      "text/plain": [
       "<Figure size 640x480 with 1 Axes>"
      ]
     },
     "metadata": {},
     "output_type": "display_data"
    }
   ],
   "source": [
    "plt.hist(y_train)\n",
    "plt.show()"
   ]
  },
  {
   "cell_type": "code",
   "execution_count": 36,
   "id": "c9f7685c",
   "metadata": {},
   "outputs": [
    {
     "data": {
      "text/plain": [
       "TweedieRegressor(power=0)"
      ]
     },
     "execution_count": 36,
     "metadata": {},
     "output_type": "execute_result"
    }
   ],
   "source": [
    "tweedie = TweedieRegressor(power=0)\n",
    "\n",
    "tweedie.fit(X_train, y_train)"
   ]
  },
  {
   "cell_type": "code",
   "execution_count": 37,
   "id": "d3b8b4de",
   "metadata": {},
   "outputs": [
    {
     "data": {
      "text/html": [
       "<div>\n",
       "<style scoped>\n",
       "    .dataframe tbody tr th:only-of-type {\n",
       "        vertical-align: middle;\n",
       "    }\n",
       "\n",
       "    .dataframe tbody tr th {\n",
       "        vertical-align: top;\n",
       "    }\n",
       "\n",
       "    .dataframe thead th {\n",
       "        text-align: right;\n",
       "    }\n",
       "</style>\n",
       "<table border=\"1\" class=\"dataframe\">\n",
       "  <thead>\n",
       "    <tr style=\"text-align: right;\">\n",
       "      <th></th>\n",
       "      <th>actual</th>\n",
       "      <th>lm_preds</th>\n",
       "      <th>lasso_preds</th>\n",
       "      <th>poly_preds</th>\n",
       "      <th>lasso_poly</th>\n",
       "      <th>tweedie</th>\n",
       "    </tr>\n",
       "  </thead>\n",
       "  <tbody>\n",
       "    <tr>\n",
       "      <th>397209</th>\n",
       "      <td>741697</td>\n",
       "      <td>710909.991846</td>\n",
       "      <td>711092.041234</td>\n",
       "      <td>718390.063110</td>\n",
       "      <td>718702.200326</td>\n",
       "      <td>712473.680485</td>\n",
       "    </tr>\n",
       "    <tr>\n",
       "      <th>920033</th>\n",
       "      <td>158409</td>\n",
       "      <td>183115.572900</td>\n",
       "      <td>182886.310534</td>\n",
       "      <td>179293.076330</td>\n",
       "      <td>180249.634602</td>\n",
       "      <td>181051.279049</td>\n",
       "    </tr>\n",
       "    <tr>\n",
       "      <th>311353</th>\n",
       "      <td>374400</td>\n",
       "      <td>383272.767035</td>\n",
       "      <td>383501.019791</td>\n",
       "      <td>388118.767005</td>\n",
       "      <td>387755.362100</td>\n",
       "      <td>384961.390051</td>\n",
       "    </tr>\n",
       "    <tr>\n",
       "      <th>672101</th>\n",
       "      <td>932755</td>\n",
       "      <td>901318.639047</td>\n",
       "      <td>900943.778485</td>\n",
       "      <td>915552.492987</td>\n",
       "      <td>912023.530131</td>\n",
       "      <td>899440.689075</td>\n",
       "    </tr>\n",
       "    <tr>\n",
       "      <th>450335</th>\n",
       "      <td>515000</td>\n",
       "      <td>478193.132586</td>\n",
       "      <td>478567.555320</td>\n",
       "      <td>486773.873145</td>\n",
       "      <td>486335.534384</td>\n",
       "      <td>479154.590572</td>\n",
       "    </tr>\n",
       "  </tbody>\n",
       "</table>\n",
       "</div>"
      ],
      "text/plain": [
       "        actual       lm_preds    lasso_preds     poly_preds     lasso_poly  \\\n",
       "397209  741697  710909.991846  711092.041234  718390.063110  718702.200326   \n",
       "920033  158409  183115.572900  182886.310534  179293.076330  180249.634602   \n",
       "311353  374400  383272.767035  383501.019791  388118.767005  387755.362100   \n",
       "672101  932755  901318.639047  900943.778485  915552.492987  912023.530131   \n",
       "450335  515000  478193.132586  478567.555320  486773.873145  486335.534384   \n",
       "\n",
       "              tweedie  \n",
       "397209  712473.680485  \n",
       "920033  181051.279049  \n",
       "311353  384961.390051  \n",
       "672101  899440.689075  \n",
       "450335  479154.590572  "
      ]
     },
     "execution_count": 37,
     "metadata": {},
     "output_type": "execute_result"
    }
   ],
   "source": [
    "preds_df['tweedie'] = tweedie.predict(X_train)\n",
    "preds_df.head()"
   ]
  },
  {
   "cell_type": "code",
   "execution_count": 38,
   "id": "7c085a41",
   "metadata": {},
   "outputs": [
    {
     "data": {
      "text/plain": [
       "67062.43790268069"
      ]
     },
     "execution_count": 38,
     "metadata": {},
     "output_type": "execute_result"
    }
   ],
   "source": [
    "tweedie_norm = sqrt(mean_squared_error(preds_df['actual'], preds_df['tweedie']))\n",
    "tweedie_norm"
   ]
  },
  {
   "cell_type": "code",
   "execution_count": 39,
   "id": "36f97835",
   "metadata": {},
   "outputs": [],
   "source": [
    "tweedie2 = TweedieRegressor(power=1)\n",
    "\n",
    "tweedie2.fit(X_train, y_train)\n",
    "preds_df['tweedie2'] = tweedie2.predict(X_train)"
   ]
  },
  {
   "cell_type": "code",
   "execution_count": 40,
   "id": "4c7db7de",
   "metadata": {},
   "outputs": [
    {
     "data": {
      "text/plain": [
       "313858.5430245682"
      ]
     },
     "execution_count": 40,
     "metadata": {},
     "output_type": "execute_result"
    }
   ],
   "source": [
    "tweedie_poisson = sqrt(mean_squared_error(preds_df['actual'], preds_df['tweedie2']))\n",
    "tweedie_poisson"
   ]
  },
  {
   "cell_type": "code",
   "execution_count": 41,
   "id": "3be14c63",
   "metadata": {},
   "outputs": [
    {
     "data": {
      "text/html": [
       "<div>\n",
       "<style scoped>\n",
       "    .dataframe tbody tr th:only-of-type {\n",
       "        vertical-align: middle;\n",
       "    }\n",
       "\n",
       "    .dataframe tbody tr th {\n",
       "        vertical-align: top;\n",
       "    }\n",
       "\n",
       "    .dataframe thead th {\n",
       "        text-align: right;\n",
       "    }\n",
       "</style>\n",
       "<table border=\"1\" class=\"dataframe\">\n",
       "  <thead>\n",
       "    <tr style=\"text-align: right;\">\n",
       "      <th></th>\n",
       "      <th>model</th>\n",
       "      <th>rmse</th>\n",
       "    </tr>\n",
       "  </thead>\n",
       "  <tbody>\n",
       "    <tr>\n",
       "      <th>0</th>\n",
       "      <td>linear</td>\n",
       "      <td>67034.686713</td>\n",
       "    </tr>\n",
       "    <tr>\n",
       "      <th>1</th>\n",
       "      <td>lasso</td>\n",
       "      <td>67035.802649</td>\n",
       "    </tr>\n",
       "    <tr>\n",
       "      <th>2</th>\n",
       "      <td>linear_poly</td>\n",
       "      <td>66135.627484</td>\n",
       "    </tr>\n",
       "    <tr>\n",
       "      <th>3</th>\n",
       "      <td>lasso_poly</td>\n",
       "      <td>66166.221985</td>\n",
       "    </tr>\n",
       "    <tr>\n",
       "      <th>4</th>\n",
       "      <td>tweedie_norm</td>\n",
       "      <td>67062.437903</td>\n",
       "    </tr>\n",
       "    <tr>\n",
       "      <th>5</th>\n",
       "      <td>tweedie_poisson</td>\n",
       "      <td>313858.543025</td>\n",
       "    </tr>\n",
       "  </tbody>\n",
       "</table>\n",
       "</div>"
      ],
      "text/plain": [
       "             model           rmse\n",
       "0           linear   67034.686713\n",
       "1            lasso   67035.802649\n",
       "2      linear_poly   66135.627484\n",
       "3       lasso_poly   66166.221985\n",
       "4     tweedie_norm   67062.437903\n",
       "5  tweedie_poisson  313858.543025"
      ]
     },
     "execution_count": 41,
     "metadata": {},
     "output_type": "execute_result"
    }
   ],
   "source": [
    "pd.DataFrame({'model': ['linear', 'lasso', 'linear_poly', 'lasso_poly', 'tweedie_norm', 'tweedie_poisson'],\n",
    "  'rmse': [lm_rmse, lasso_rmse, poly_rmse, lassopoly_rmse, tweedie_norm, tweedie_poisson]})"
   ]
  },
  {
   "cell_type": "code",
   "execution_count": 42,
   "id": "a0d35088",
   "metadata": {},
   "outputs": [
    {
     "data": {
      "text/html": [
       "<div>\n",
       "<style scoped>\n",
       "    .dataframe tbody tr th:only-of-type {\n",
       "        vertical-align: middle;\n",
       "    }\n",
       "\n",
       "    .dataframe tbody tr th {\n",
       "        vertical-align: top;\n",
       "    }\n",
       "\n",
       "    .dataframe thead th {\n",
       "        text-align: right;\n",
       "    }\n",
       "</style>\n",
       "<table border=\"1\" class=\"dataframe\">\n",
       "  <thead>\n",
       "    <tr style=\"text-align: right;\">\n",
       "      <th></th>\n",
       "      <th>actual</th>\n",
       "      <th>lm_preds</th>\n",
       "      <th>lasso_preds</th>\n",
       "      <th>poly_preds</th>\n",
       "      <th>lasso_poly</th>\n",
       "      <th>tweedie</th>\n",
       "      <th>tweedie2</th>\n",
       "      <th>baseline</th>\n",
       "    </tr>\n",
       "  </thead>\n",
       "  <tbody>\n",
       "    <tr>\n",
       "      <th>397209</th>\n",
       "      <td>741697</td>\n",
       "      <td>710909.991846</td>\n",
       "      <td>711092.041234</td>\n",
       "      <td>718390.063110</td>\n",
       "      <td>718702.200326</td>\n",
       "      <td>712473.680485</td>\n",
       "      <td>399082.324049</td>\n",
       "      <td>399082.324049</td>\n",
       "    </tr>\n",
       "    <tr>\n",
       "      <th>920033</th>\n",
       "      <td>158409</td>\n",
       "      <td>183115.572900</td>\n",
       "      <td>182886.310534</td>\n",
       "      <td>179293.076330</td>\n",
       "      <td>180249.634602</td>\n",
       "      <td>181051.279049</td>\n",
       "      <td>399082.324049</td>\n",
       "      <td>399082.324049</td>\n",
       "    </tr>\n",
       "    <tr>\n",
       "      <th>311353</th>\n",
       "      <td>374400</td>\n",
       "      <td>383272.767035</td>\n",
       "      <td>383501.019791</td>\n",
       "      <td>388118.767005</td>\n",
       "      <td>387755.362100</td>\n",
       "      <td>384961.390051</td>\n",
       "      <td>399082.324049</td>\n",
       "      <td>399082.324049</td>\n",
       "    </tr>\n",
       "    <tr>\n",
       "      <th>672101</th>\n",
       "      <td>932755</td>\n",
       "      <td>901318.639047</td>\n",
       "      <td>900943.778485</td>\n",
       "      <td>915552.492987</td>\n",
       "      <td>912023.530131</td>\n",
       "      <td>899440.689075</td>\n",
       "      <td>399082.324049</td>\n",
       "      <td>399082.324049</td>\n",
       "    </tr>\n",
       "    <tr>\n",
       "      <th>450335</th>\n",
       "      <td>515000</td>\n",
       "      <td>478193.132586</td>\n",
       "      <td>478567.555320</td>\n",
       "      <td>486773.873145</td>\n",
       "      <td>486335.534384</td>\n",
       "      <td>479154.590572</td>\n",
       "      <td>399082.324049</td>\n",
       "      <td>399082.324049</td>\n",
       "    </tr>\n",
       "  </tbody>\n",
       "</table>\n",
       "</div>"
      ],
      "text/plain": [
       "        actual       lm_preds    lasso_preds     poly_preds     lasso_poly  \\\n",
       "397209  741697  710909.991846  711092.041234  718390.063110  718702.200326   \n",
       "920033  158409  183115.572900  182886.310534  179293.076330  180249.634602   \n",
       "311353  374400  383272.767035  383501.019791  388118.767005  387755.362100   \n",
       "672101  932755  901318.639047  900943.778485  915552.492987  912023.530131   \n",
       "450335  515000  478193.132586  478567.555320  486773.873145  486335.534384   \n",
       "\n",
       "              tweedie       tweedie2       baseline  \n",
       "397209  712473.680485  399082.324049  399082.324049  \n",
       "920033  181051.279049  399082.324049  399082.324049  \n",
       "311353  384961.390051  399082.324049  399082.324049  \n",
       "672101  899440.689075  399082.324049  399082.324049  \n",
       "450335  479154.590572  399082.324049  399082.324049  "
      ]
     },
     "execution_count": 42,
     "metadata": {},
     "output_type": "execute_result"
    }
   ],
   "source": [
    "preds_df['baseline'] = y_train.mean()\n",
    "preds_df.head()"
   ]
  },
  {
   "cell_type": "code",
   "execution_count": 43,
   "id": "e5c84a13",
   "metadata": {},
   "outputs": [
    {
     "data": {
      "text/plain": [
       "313858.5430245682"
      ]
     },
     "execution_count": 43,
     "metadata": {},
     "output_type": "execute_result"
    }
   ],
   "source": [
    "sqrt(mean_squared_error(preds_df['actual'], preds_df['baseline']))"
   ]
  },
  {
   "cell_type": "code",
   "execution_count": null,
   "id": "503d338c",
   "metadata": {},
   "outputs": [],
   "source": []
  }
 ],
 "metadata": {
  "kernelspec": {
   "display_name": "Python 3 (ipykernel)",
   "language": "python",
   "name": "python3"
  },
  "language_info": {
   "codemirror_mode": {
    "name": "ipython",
    "version": 3
   },
   "file_extension": ".py",
   "mimetype": "text/x-python",
   "name": "python",
   "nbconvert_exporter": "python",
   "pygments_lexer": "ipython3",
   "version": "3.9.13"
  }
 },
 "nbformat": 4,
 "nbformat_minor": 5
}
